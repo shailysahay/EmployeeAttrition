{
 "cells": [
  {
   "cell_type": "code",
   "execution_count": 1,
   "id": "86fdf410",
   "metadata": {},
   "outputs": [],
   "source": [
    "import numpy as np\n",
    "import pandas as pd\n",
    "import seaborn as sns\n",
    "import matplotlib.pyplot as plt\n",
    "from sklearn.preprocessing import StandardScaler\n",
    "from sklearn.preprocessing import LabelEncoder\n",
    "from IPython.core.pylabtools import figsize\n",
    "from statsmodels.formula.api import ols\n",
    "from sklearn.model_selection import train_test_split\n",
    "from sklearn.feature_selection import SelectKBest, chi2\n",
    "from statsmodels.stats.outliers_influence import variance_inflation_factor\n",
    "from sklearn.feature_selection import f_classif\n",
    "from sklearn.preprocessing import MinMaxScaler\n",
    "\n",
    "\n",
    "from sklearn.tree import DecisionTreeClassifier\n",
    "from sklearn.neural_network import MLPClassifier\n",
    "from sklearn.svm import SVC\n",
    "from sklearn.ensemble import RandomForestClassifier\n",
    "from sklearn.neighbors import KNeighborsClassifier\n",
    "from sklearn.linear_model import LinearRegression\n",
    "from sklearn.naive_bayes import GaussianNB , MultinomialNB\n",
    "from sklearn.linear_model import LogisticRegression\n",
    "\n",
    "from sklearn import metrics\n",
    "from sklearn.metrics import precision_score,accuracy_score,confusion_matrix,f1_score,recall_score"
   ]
  },
  {
   "cell_type": "markdown",
   "id": "4a484c81",
   "metadata": {},
   "source": [
    "# TRAIN DATA SET"
   ]
  },
  {
   "cell_type": "markdown",
   "id": "158b94fe",
   "metadata": {},
   "source": [
    "# Get Data"
   ]
  },
  {
   "cell_type": "code",
   "execution_count": 2,
   "id": "73ae362d",
   "metadata": {},
   "outputs": [],
   "source": [
    "df = pd.read_csv('HR_data.csv')"
   ]
  },
  {
   "cell_type": "code",
   "execution_count": 3,
   "id": "5e95f685",
   "metadata": {},
   "outputs": [
    {
     "data": {
      "text/html": [
       "<div>\n",
       "<style scoped>\n",
       "    .dataframe tbody tr th:only-of-type {\n",
       "        vertical-align: middle;\n",
       "    }\n",
       "\n",
       "    .dataframe tbody tr th {\n",
       "        vertical-align: top;\n",
       "    }\n",
       "\n",
       "    .dataframe thead th {\n",
       "        text-align: right;\n",
       "    }\n",
       "</style>\n",
       "<table border=\"1\" class=\"dataframe\">\n",
       "  <thead>\n",
       "    <tr style=\"text-align: right;\">\n",
       "      <th></th>\n",
       "      <th>EmployeeID</th>\n",
       "      <th>satisfaction_level</th>\n",
       "      <th>last_evaluation</th>\n",
       "      <th>number_project</th>\n",
       "      <th>average_montly_hours</th>\n",
       "      <th>time_spend_company</th>\n",
       "      <th>Work_accident</th>\n",
       "      <th>left</th>\n",
       "      <th>promotion_last_5years</th>\n",
       "      <th>sales</th>\n",
       "      <th>salary</th>\n",
       "    </tr>\n",
       "  </thead>\n",
       "  <tbody>\n",
       "    <tr>\n",
       "      <th>0</th>\n",
       "      <td>1</td>\n",
       "      <td>0.38</td>\n",
       "      <td>0.53</td>\n",
       "      <td>2</td>\n",
       "      <td>157</td>\n",
       "      <td>3</td>\n",
       "      <td>0</td>\n",
       "      <td>1</td>\n",
       "      <td>0</td>\n",
       "      <td>sales</td>\n",
       "      <td>low</td>\n",
       "    </tr>\n",
       "    <tr>\n",
       "      <th>1</th>\n",
       "      <td>2</td>\n",
       "      <td>0.80</td>\n",
       "      <td>0.86</td>\n",
       "      <td>5</td>\n",
       "      <td>262</td>\n",
       "      <td>6</td>\n",
       "      <td>0</td>\n",
       "      <td>1</td>\n",
       "      <td>0</td>\n",
       "      <td>sales</td>\n",
       "      <td>medium</td>\n",
       "    </tr>\n",
       "    <tr>\n",
       "      <th>2</th>\n",
       "      <td>3</td>\n",
       "      <td>0.11</td>\n",
       "      <td>0.88</td>\n",
       "      <td>7</td>\n",
       "      <td>272</td>\n",
       "      <td>4</td>\n",
       "      <td>0</td>\n",
       "      <td>1</td>\n",
       "      <td>0</td>\n",
       "      <td>sales</td>\n",
       "      <td>medium</td>\n",
       "    </tr>\n",
       "    <tr>\n",
       "      <th>3</th>\n",
       "      <td>4</td>\n",
       "      <td>0.72</td>\n",
       "      <td>0.87</td>\n",
       "      <td>5</td>\n",
       "      <td>223</td>\n",
       "      <td>5</td>\n",
       "      <td>0</td>\n",
       "      <td>1</td>\n",
       "      <td>0</td>\n",
       "      <td>sales</td>\n",
       "      <td>low</td>\n",
       "    </tr>\n",
       "    <tr>\n",
       "      <th>4</th>\n",
       "      <td>5</td>\n",
       "      <td>0.37</td>\n",
       "      <td>0.52</td>\n",
       "      <td>2</td>\n",
       "      <td>159</td>\n",
       "      <td>3</td>\n",
       "      <td>0</td>\n",
       "      <td>1</td>\n",
       "      <td>0</td>\n",
       "      <td>sales</td>\n",
       "      <td>low</td>\n",
       "    </tr>\n",
       "  </tbody>\n",
       "</table>\n",
       "</div>"
      ],
      "text/plain": [
       "   EmployeeID  satisfaction_level  last_evaluation  number_project  \\\n",
       "0           1                0.38             0.53               2   \n",
       "1           2                0.80             0.86               5   \n",
       "2           3                0.11             0.88               7   \n",
       "3           4                0.72             0.87               5   \n",
       "4           5                0.37             0.52               2   \n",
       "\n",
       "   average_montly_hours  time_spend_company  Work_accident  left  \\\n",
       "0                   157                   3              0     1   \n",
       "1                   262                   6              0     1   \n",
       "2                   272                   4              0     1   \n",
       "3                   223                   5              0     1   \n",
       "4                   159                   3              0     1   \n",
       "\n",
       "   promotion_last_5years  sales  salary  \n",
       "0                      0  sales     low  \n",
       "1                      0  sales  medium  \n",
       "2                      0  sales  medium  \n",
       "3                      0  sales     low  \n",
       "4                      0  sales     low  "
      ]
     },
     "execution_count": 3,
     "metadata": {},
     "output_type": "execute_result"
    }
   ],
   "source": [
    "pd.set_option('display.max_columns', None)  # to display all the columns\n",
    "df.head(5)"
   ]
  },
  {
   "cell_type": "markdown",
   "id": "cba64bdb",
   "metadata": {},
   "source": [
    "# Data quality\n",
    "\n",
    "Check for:\n",
    "1) Missing Data\n",
    "\n",
    "2) Data Types of variables and their values\n",
    "\n",
    "3) Data columns"
   ]
  },
  {
   "cell_type": "code",
   "execution_count": 4,
   "id": "80909c60",
   "metadata": {},
   "outputs": [
    {
     "name": "stdout",
     "output_type": "stream",
     "text": [
      "<class 'pandas.core.frame.DataFrame'>\n",
      "RangeIndex: 12000 entries, 0 to 11999\n",
      "Data columns (total 11 columns):\n",
      " #   Column                 Non-Null Count  Dtype  \n",
      "---  ------                 --------------  -----  \n",
      " 0   EmployeeID             12000 non-null  int64  \n",
      " 1   satisfaction_level     12000 non-null  float64\n",
      " 2   last_evaluation        12000 non-null  float64\n",
      " 3   number_project         12000 non-null  int64  \n",
      " 4   average_montly_hours   12000 non-null  int64  \n",
      " 5   time_spend_company     12000 non-null  int64  \n",
      " 6   Work_accident          12000 non-null  int64  \n",
      " 7   left                   12000 non-null  int64  \n",
      " 8   promotion_last_5years  12000 non-null  int64  \n",
      " 9   sales                  12000 non-null  object \n",
      " 10  salary                 12000 non-null  object \n",
      "dtypes: float64(2), int64(7), object(2)\n",
      "memory usage: 1.0+ MB\n"
     ]
    }
   ],
   "source": [
    "# check the data types \n",
    "df.info()"
   ]
  },
  {
   "cell_type": "code",
   "execution_count": 5,
   "id": "5788d54f",
   "metadata": {},
   "outputs": [
    {
     "data": {
      "text/plain": [
       "(12000, 11)"
      ]
     },
     "execution_count": 5,
     "metadata": {},
     "output_type": "execute_result"
    }
   ],
   "source": [
    "# check shape of the dataset before dealing with missing values\n",
    "df.shape"
   ]
  },
  {
   "cell_type": "code",
   "execution_count": 6,
   "id": "64097c30",
   "metadata": {},
   "outputs": [
    {
     "data": {
      "text/plain": [
       "EmployeeID               0\n",
       "satisfaction_level       0\n",
       "last_evaluation          0\n",
       "number_project           0\n",
       "average_montly_hours     0\n",
       "time_spend_company       0\n",
       "Work_accident            0\n",
       "left                     0\n",
       "promotion_last_5years    0\n",
       "sales                    0\n",
       "salary                   0\n",
       "dtype: int64"
      ]
     },
     "execution_count": 6,
     "metadata": {},
     "output_type": "execute_result"
    }
   ],
   "source": [
    "## Check for null values:\n",
    "\n",
    "df.isna().sum()"
   ]
  },
  {
   "cell_type": "markdown",
   "id": "f331ae4c",
   "metadata": {},
   "source": [
    "*** There are no missing values ***"
   ]
  },
  {
   "cell_type": "markdown",
   "id": "1efe2a21",
   "metadata": {},
   "source": [
    "## Make changes to columns"
   ]
  },
  {
   "cell_type": "code",
   "execution_count": 7,
   "id": "cca6e4c7",
   "metadata": {},
   "outputs": [
    {
     "data": {
      "text/plain": [
       "Index(['EmployeeID', 'satisfaction_level', 'last_evaluation', 'number_project',\n",
       "       'average_montly_hours', 'time_spend_company', 'Work_accident', 'left',\n",
       "       'promotion_last_5years', 'sales', 'salary'],\n",
       "      dtype='object')"
      ]
     },
     "execution_count": 7,
     "metadata": {},
     "output_type": "execute_result"
    }
   ],
   "source": [
    "# check column names\n",
    "df.columns"
   ]
  },
  {
   "cell_type": "code",
   "execution_count": 8,
   "id": "47967c6f",
   "metadata": {},
   "outputs": [
    {
     "data": {
      "text/plain": [
       "array(['low', 'medium', 'high'], dtype=object)"
      ]
     },
     "execution_count": 8,
     "metadata": {},
     "output_type": "execute_result"
    }
   ],
   "source": [
    "# check unique values of columns.. do this for all columns\n",
    "df.salary.unique()"
   ]
  },
  {
   "cell_type": "code",
   "execution_count": 9,
   "id": "161c991c",
   "metadata": {},
   "outputs": [
    {
     "data": {
      "text/html": [
       "<div>\n",
       "<style scoped>\n",
       "    .dataframe tbody tr th:only-of-type {\n",
       "        vertical-align: middle;\n",
       "    }\n",
       "\n",
       "    .dataframe tbody tr th {\n",
       "        vertical-align: top;\n",
       "    }\n",
       "\n",
       "    .dataframe thead th {\n",
       "        text-align: right;\n",
       "    }\n",
       "</style>\n",
       "<table border=\"1\" class=\"dataframe\">\n",
       "  <thead>\n",
       "    <tr style=\"text-align: right;\">\n",
       "      <th></th>\n",
       "      <th>EmployeeID</th>\n",
       "      <th>satisfaction_level</th>\n",
       "      <th>last_evaluation</th>\n",
       "      <th>number_project</th>\n",
       "      <th>average_montly_hours</th>\n",
       "      <th>time_spend_company</th>\n",
       "      <th>Work_accident</th>\n",
       "      <th>turnover</th>\n",
       "      <th>promotion_last_5years</th>\n",
       "      <th>dept</th>\n",
       "      <th>salary</th>\n",
       "    </tr>\n",
       "  </thead>\n",
       "  <tbody>\n",
       "    <tr>\n",
       "      <th>0</th>\n",
       "      <td>1</td>\n",
       "      <td>0.38</td>\n",
       "      <td>0.53</td>\n",
       "      <td>2</td>\n",
       "      <td>157</td>\n",
       "      <td>3</td>\n",
       "      <td>0</td>\n",
       "      <td>1</td>\n",
       "      <td>0</td>\n",
       "      <td>sales</td>\n",
       "      <td>low</td>\n",
       "    </tr>\n",
       "    <tr>\n",
       "      <th>1</th>\n",
       "      <td>2</td>\n",
       "      <td>0.80</td>\n",
       "      <td>0.86</td>\n",
       "      <td>5</td>\n",
       "      <td>262</td>\n",
       "      <td>6</td>\n",
       "      <td>0</td>\n",
       "      <td>1</td>\n",
       "      <td>0</td>\n",
       "      <td>sales</td>\n",
       "      <td>medium</td>\n",
       "    </tr>\n",
       "    <tr>\n",
       "      <th>2</th>\n",
       "      <td>3</td>\n",
       "      <td>0.11</td>\n",
       "      <td>0.88</td>\n",
       "      <td>7</td>\n",
       "      <td>272</td>\n",
       "      <td>4</td>\n",
       "      <td>0</td>\n",
       "      <td>1</td>\n",
       "      <td>0</td>\n",
       "      <td>sales</td>\n",
       "      <td>medium</td>\n",
       "    </tr>\n",
       "    <tr>\n",
       "      <th>3</th>\n",
       "      <td>4</td>\n",
       "      <td>0.72</td>\n",
       "      <td>0.87</td>\n",
       "      <td>5</td>\n",
       "      <td>223</td>\n",
       "      <td>5</td>\n",
       "      <td>0</td>\n",
       "      <td>1</td>\n",
       "      <td>0</td>\n",
       "      <td>sales</td>\n",
       "      <td>low</td>\n",
       "    </tr>\n",
       "    <tr>\n",
       "      <th>4</th>\n",
       "      <td>5</td>\n",
       "      <td>0.37</td>\n",
       "      <td>0.52</td>\n",
       "      <td>2</td>\n",
       "      <td>159</td>\n",
       "      <td>3</td>\n",
       "      <td>0</td>\n",
       "      <td>1</td>\n",
       "      <td>0</td>\n",
       "      <td>sales</td>\n",
       "      <td>low</td>\n",
       "    </tr>\n",
       "    <tr>\n",
       "      <th>...</th>\n",
       "      <td>...</td>\n",
       "      <td>...</td>\n",
       "      <td>...</td>\n",
       "      <td>...</td>\n",
       "      <td>...</td>\n",
       "      <td>...</td>\n",
       "      <td>...</td>\n",
       "      <td>...</td>\n",
       "      <td>...</td>\n",
       "      <td>...</td>\n",
       "      <td>...</td>\n",
       "    </tr>\n",
       "    <tr>\n",
       "      <th>11995</th>\n",
       "      <td>11996</td>\n",
       "      <td>0.90</td>\n",
       "      <td>0.55</td>\n",
       "      <td>3</td>\n",
       "      <td>259</td>\n",
       "      <td>10</td>\n",
       "      <td>1</td>\n",
       "      <td>0</td>\n",
       "      <td>1</td>\n",
       "      <td>management</td>\n",
       "      <td>high</td>\n",
       "    </tr>\n",
       "    <tr>\n",
       "      <th>11996</th>\n",
       "      <td>11997</td>\n",
       "      <td>0.74</td>\n",
       "      <td>0.95</td>\n",
       "      <td>5</td>\n",
       "      <td>266</td>\n",
       "      <td>10</td>\n",
       "      <td>0</td>\n",
       "      <td>0</td>\n",
       "      <td>1</td>\n",
       "      <td>management</td>\n",
       "      <td>high</td>\n",
       "    </tr>\n",
       "    <tr>\n",
       "      <th>11997</th>\n",
       "      <td>11998</td>\n",
       "      <td>0.85</td>\n",
       "      <td>0.54</td>\n",
       "      <td>3</td>\n",
       "      <td>185</td>\n",
       "      <td>10</td>\n",
       "      <td>0</td>\n",
       "      <td>0</td>\n",
       "      <td>1</td>\n",
       "      <td>management</td>\n",
       "      <td>high</td>\n",
       "    </tr>\n",
       "    <tr>\n",
       "      <th>11998</th>\n",
       "      <td>11999</td>\n",
       "      <td>0.33</td>\n",
       "      <td>0.65</td>\n",
       "      <td>3</td>\n",
       "      <td>172</td>\n",
       "      <td>10</td>\n",
       "      <td>0</td>\n",
       "      <td>0</td>\n",
       "      <td>1</td>\n",
       "      <td>marketing</td>\n",
       "      <td>high</td>\n",
       "    </tr>\n",
       "    <tr>\n",
       "      <th>11999</th>\n",
       "      <td>12000</td>\n",
       "      <td>0.50</td>\n",
       "      <td>0.73</td>\n",
       "      <td>4</td>\n",
       "      <td>180</td>\n",
       "      <td>3</td>\n",
       "      <td>0</td>\n",
       "      <td>0</td>\n",
       "      <td>0</td>\n",
       "      <td>IT</td>\n",
       "      <td>low</td>\n",
       "    </tr>\n",
       "  </tbody>\n",
       "</table>\n",
       "<p>12000 rows × 11 columns</p>\n",
       "</div>"
      ],
      "text/plain": [
       "       EmployeeID  satisfaction_level  last_evaluation  number_project  \\\n",
       "0               1                0.38             0.53               2   \n",
       "1               2                0.80             0.86               5   \n",
       "2               3                0.11             0.88               7   \n",
       "3               4                0.72             0.87               5   \n",
       "4               5                0.37             0.52               2   \n",
       "...           ...                 ...              ...             ...   \n",
       "11995       11996                0.90             0.55               3   \n",
       "11996       11997                0.74             0.95               5   \n",
       "11997       11998                0.85             0.54               3   \n",
       "11998       11999                0.33             0.65               3   \n",
       "11999       12000                0.50             0.73               4   \n",
       "\n",
       "       average_montly_hours  time_spend_company  Work_accident  turnover  \\\n",
       "0                       157                   3              0         1   \n",
       "1                       262                   6              0         1   \n",
       "2                       272                   4              0         1   \n",
       "3                       223                   5              0         1   \n",
       "4                       159                   3              0         1   \n",
       "...                     ...                 ...            ...       ...   \n",
       "11995                   259                  10              1         0   \n",
       "11996                   266                  10              0         0   \n",
       "11997                   185                  10              0         0   \n",
       "11998                   172                  10              0         0   \n",
       "11999                   180                   3              0         0   \n",
       "\n",
       "       promotion_last_5years        dept  salary  \n",
       "0                          0       sales     low  \n",
       "1                          0       sales  medium  \n",
       "2                          0       sales  medium  \n",
       "3                          0       sales     low  \n",
       "4                          0       sales     low  \n",
       "...                      ...         ...     ...  \n",
       "11995                      1  management    high  \n",
       "11996                      1  management    high  \n",
       "11997                      1  management    high  \n",
       "11998                      1   marketing    high  \n",
       "11999                      0          IT     low  \n",
       "\n",
       "[12000 rows x 11 columns]"
      ]
     },
     "execution_count": 9,
     "metadata": {},
     "output_type": "execute_result"
    }
   ],
   "source": [
    "# change the feature name 'sales' to 'dept', and 'left' to 'turnover'\n",
    "df = df.rename(columns={'sales':'dept'})\n",
    "df = df.rename(columns={'left':'turnover'})\n",
    "df\n"
   ]
  },
  {
   "cell_type": "code",
   "execution_count": 10,
   "id": "9ddebf44",
   "metadata": {},
   "outputs": [
    {
     "name": "stdout",
     "output_type": "stream",
     "text": [
      "Satisfaction Range values: \n",
      "High      6941\n",
      "Medium    3655\n",
      "Low       1404\n",
      "Name: satisfaction_range, dtype: int64\n"
     ]
    }
   ],
   "source": [
    "# Create a new column with satisfaction ranges - 'Low', 'Medium', 'High'\n",
    "\n",
    "# This will help us analyze the effect of different groups of satisfaction levels for turnover/ current employees \n",
    "\n",
    "\n",
    "df['satisfaction_range'] = pd.cut(x=df['satisfaction_level'], bins=[0.0, 0.3, 0.6, 1.0],\n",
    "                     labels=['Low', 'Medium', 'High'])\n",
    "\n",
    "# Check the number of values in each bin\n",
    "print(\"Satisfaction Range values: \")\n",
    "print(df['satisfaction_range'].value_counts())\n"
   ]
  },
  {
   "cell_type": "code",
   "execution_count": 11,
   "id": "7f04c4fd",
   "metadata": {
    "scrolled": true
   },
   "outputs": [
    {
     "data": {
      "text/html": [
       "<div>\n",
       "<style scoped>\n",
       "    .dataframe tbody tr th:only-of-type {\n",
       "        vertical-align: middle;\n",
       "    }\n",
       "\n",
       "    .dataframe tbody tr th {\n",
       "        vertical-align: top;\n",
       "    }\n",
       "\n",
       "    .dataframe thead th {\n",
       "        text-align: right;\n",
       "    }\n",
       "</style>\n",
       "<table border=\"1\" class=\"dataframe\">\n",
       "  <thead>\n",
       "    <tr style=\"text-align: right;\">\n",
       "      <th></th>\n",
       "      <th>EmployeeID</th>\n",
       "      <th>satisfaction_level</th>\n",
       "      <th>last_evaluation</th>\n",
       "      <th>number_project</th>\n",
       "      <th>average_montly_hours</th>\n",
       "      <th>time_spend_company</th>\n",
       "      <th>Work_accident</th>\n",
       "      <th>turnover</th>\n",
       "      <th>promotion_last_5years</th>\n",
       "      <th>dept</th>\n",
       "      <th>salary</th>\n",
       "      <th>satisfaction_range</th>\n",
       "    </tr>\n",
       "  </thead>\n",
       "  <tbody>\n",
       "    <tr>\n",
       "      <th>0</th>\n",
       "      <td>1</td>\n",
       "      <td>0.38</td>\n",
       "      <td>0.53</td>\n",
       "      <td>2</td>\n",
       "      <td>157</td>\n",
       "      <td>3</td>\n",
       "      <td>0</td>\n",
       "      <td>1</td>\n",
       "      <td>0</td>\n",
       "      <td>sales</td>\n",
       "      <td>low</td>\n",
       "      <td>Medium</td>\n",
       "    </tr>\n",
       "    <tr>\n",
       "      <th>1</th>\n",
       "      <td>2</td>\n",
       "      <td>0.80</td>\n",
       "      <td>0.86</td>\n",
       "      <td>5</td>\n",
       "      <td>262</td>\n",
       "      <td>6</td>\n",
       "      <td>0</td>\n",
       "      <td>1</td>\n",
       "      <td>0</td>\n",
       "      <td>sales</td>\n",
       "      <td>medium</td>\n",
       "      <td>High</td>\n",
       "    </tr>\n",
       "    <tr>\n",
       "      <th>2</th>\n",
       "      <td>3</td>\n",
       "      <td>0.11</td>\n",
       "      <td>0.88</td>\n",
       "      <td>7</td>\n",
       "      <td>272</td>\n",
       "      <td>4</td>\n",
       "      <td>0</td>\n",
       "      <td>1</td>\n",
       "      <td>0</td>\n",
       "      <td>sales</td>\n",
       "      <td>medium</td>\n",
       "      <td>Low</td>\n",
       "    </tr>\n",
       "    <tr>\n",
       "      <th>3</th>\n",
       "      <td>4</td>\n",
       "      <td>0.72</td>\n",
       "      <td>0.87</td>\n",
       "      <td>5</td>\n",
       "      <td>223</td>\n",
       "      <td>5</td>\n",
       "      <td>0</td>\n",
       "      <td>1</td>\n",
       "      <td>0</td>\n",
       "      <td>sales</td>\n",
       "      <td>low</td>\n",
       "      <td>High</td>\n",
       "    </tr>\n",
       "    <tr>\n",
       "      <th>4</th>\n",
       "      <td>5</td>\n",
       "      <td>0.37</td>\n",
       "      <td>0.52</td>\n",
       "      <td>2</td>\n",
       "      <td>159</td>\n",
       "      <td>3</td>\n",
       "      <td>0</td>\n",
       "      <td>1</td>\n",
       "      <td>0</td>\n",
       "      <td>sales</td>\n",
       "      <td>low</td>\n",
       "      <td>Medium</td>\n",
       "    </tr>\n",
       "  </tbody>\n",
       "</table>\n",
       "</div>"
      ],
      "text/plain": [
       "   EmployeeID  satisfaction_level  last_evaluation  number_project  \\\n",
       "0           1                0.38             0.53               2   \n",
       "1           2                0.80             0.86               5   \n",
       "2           3                0.11             0.88               7   \n",
       "3           4                0.72             0.87               5   \n",
       "4           5                0.37             0.52               2   \n",
       "\n",
       "   average_montly_hours  time_spend_company  Work_accident  turnover  \\\n",
       "0                   157                   3              0         1   \n",
       "1                   262                   6              0         1   \n",
       "2                   272                   4              0         1   \n",
       "3                   223                   5              0         1   \n",
       "4                   159                   3              0         1   \n",
       "\n",
       "   promotion_last_5years   dept  salary satisfaction_range  \n",
       "0                      0  sales     low             Medium  \n",
       "1                      0  sales  medium               High  \n",
       "2                      0  sales  medium                Low  \n",
       "3                      0  sales     low               High  \n",
       "4                      0  sales     low             Medium  "
      ]
     },
     "execution_count": 11,
     "metadata": {},
     "output_type": "execute_result"
    }
   ],
   "source": [
    "df.head()"
   ]
  },
  {
   "cell_type": "markdown",
   "id": "9b5f05dd",
   "metadata": {},
   "source": [
    "# Statistical Analysis - Univariate\n",
    "\n",
    "\n"
   ]
  },
  {
   "cell_type": "markdown",
   "id": "92337455",
   "metadata": {},
   "source": [
    "## Numerical Summary\n"
   ]
  },
  {
   "cell_type": "code",
   "execution_count": 12,
   "id": "9fea79a4",
   "metadata": {
    "scrolled": true
   },
   "outputs": [
    {
     "data": {
      "text/html": [
       "<div>\n",
       "<style scoped>\n",
       "    .dataframe tbody tr th:only-of-type {\n",
       "        vertical-align: middle;\n",
       "    }\n",
       "\n",
       "    .dataframe tbody tr th {\n",
       "        vertical-align: top;\n",
       "    }\n",
       "\n",
       "    .dataframe thead th {\n",
       "        text-align: right;\n",
       "    }\n",
       "</style>\n",
       "<table border=\"1\" class=\"dataframe\">\n",
       "  <thead>\n",
       "    <tr style=\"text-align: right;\">\n",
       "      <th></th>\n",
       "      <th>EmployeeID</th>\n",
       "      <th>satisfaction_level</th>\n",
       "      <th>last_evaluation</th>\n",
       "      <th>number_project</th>\n",
       "      <th>average_montly_hours</th>\n",
       "      <th>time_spend_company</th>\n",
       "      <th>Work_accident</th>\n",
       "      <th>turnover</th>\n",
       "      <th>promotion_last_5years</th>\n",
       "      <th>dept</th>\n",
       "      <th>salary</th>\n",
       "      <th>satisfaction_range</th>\n",
       "    </tr>\n",
       "  </thead>\n",
       "  <tbody>\n",
       "    <tr>\n",
       "      <th>count</th>\n",
       "      <td>12000.00000</td>\n",
       "      <td>12000.000000</td>\n",
       "      <td>12000.000000</td>\n",
       "      <td>12000.000000</td>\n",
       "      <td>12000.000000</td>\n",
       "      <td>12000.000000</td>\n",
       "      <td>12000.000000</td>\n",
       "      <td>12000.000000</td>\n",
       "      <td>12000.000000</td>\n",
       "      <td>12000</td>\n",
       "      <td>12000</td>\n",
       "      <td>12000</td>\n",
       "    </tr>\n",
       "    <tr>\n",
       "      <th>unique</th>\n",
       "      <td>NaN</td>\n",
       "      <td>NaN</td>\n",
       "      <td>NaN</td>\n",
       "      <td>NaN</td>\n",
       "      <td>NaN</td>\n",
       "      <td>NaN</td>\n",
       "      <td>NaN</td>\n",
       "      <td>NaN</td>\n",
       "      <td>NaN</td>\n",
       "      <td>10</td>\n",
       "      <td>3</td>\n",
       "      <td>3</td>\n",
       "    </tr>\n",
       "    <tr>\n",
       "      <th>top</th>\n",
       "      <td>NaN</td>\n",
       "      <td>NaN</td>\n",
       "      <td>NaN</td>\n",
       "      <td>NaN</td>\n",
       "      <td>NaN</td>\n",
       "      <td>NaN</td>\n",
       "      <td>NaN</td>\n",
       "      <td>NaN</td>\n",
       "      <td>NaN</td>\n",
       "      <td>sales</td>\n",
       "      <td>low</td>\n",
       "      <td>High</td>\n",
       "    </tr>\n",
       "    <tr>\n",
       "      <th>freq</th>\n",
       "      <td>NaN</td>\n",
       "      <td>NaN</td>\n",
       "      <td>NaN</td>\n",
       "      <td>NaN</td>\n",
       "      <td>NaN</td>\n",
       "      <td>NaN</td>\n",
       "      <td>NaN</td>\n",
       "      <td>NaN</td>\n",
       "      <td>NaN</td>\n",
       "      <td>3245</td>\n",
       "      <td>5748</td>\n",
       "      <td>6941</td>\n",
       "    </tr>\n",
       "    <tr>\n",
       "      <th>mean</th>\n",
       "      <td>6000.50000</td>\n",
       "      <td>0.629463</td>\n",
       "      <td>0.716558</td>\n",
       "      <td>3.801833</td>\n",
       "      <td>200.437917</td>\n",
       "      <td>3.364667</td>\n",
       "      <td>0.154167</td>\n",
       "      <td>0.166667</td>\n",
       "      <td>0.016917</td>\n",
       "      <td>NaN</td>\n",
       "      <td>NaN</td>\n",
       "      <td>NaN</td>\n",
       "    </tr>\n",
       "    <tr>\n",
       "      <th>std</th>\n",
       "      <td>3464.24595</td>\n",
       "      <td>0.241100</td>\n",
       "      <td>0.168368</td>\n",
       "      <td>1.163906</td>\n",
       "      <td>48.740178</td>\n",
       "      <td>1.329787</td>\n",
       "      <td>0.361123</td>\n",
       "      <td>0.372694</td>\n",
       "      <td>0.128965</td>\n",
       "      <td>NaN</td>\n",
       "      <td>NaN</td>\n",
       "      <td>NaN</td>\n",
       "    </tr>\n",
       "    <tr>\n",
       "      <th>min</th>\n",
       "      <td>1.00000</td>\n",
       "      <td>0.090000</td>\n",
       "      <td>0.360000</td>\n",
       "      <td>2.000000</td>\n",
       "      <td>96.000000</td>\n",
       "      <td>2.000000</td>\n",
       "      <td>0.000000</td>\n",
       "      <td>0.000000</td>\n",
       "      <td>0.000000</td>\n",
       "      <td>NaN</td>\n",
       "      <td>NaN</td>\n",
       "      <td>NaN</td>\n",
       "    </tr>\n",
       "    <tr>\n",
       "      <th>25%</th>\n",
       "      <td>3000.75000</td>\n",
       "      <td>0.480000</td>\n",
       "      <td>0.570000</td>\n",
       "      <td>3.000000</td>\n",
       "      <td>157.000000</td>\n",
       "      <td>3.000000</td>\n",
       "      <td>0.000000</td>\n",
       "      <td>0.000000</td>\n",
       "      <td>0.000000</td>\n",
       "      <td>NaN</td>\n",
       "      <td>NaN</td>\n",
       "      <td>NaN</td>\n",
       "    </tr>\n",
       "    <tr>\n",
       "      <th>50%</th>\n",
       "      <td>6000.50000</td>\n",
       "      <td>0.660000</td>\n",
       "      <td>0.720000</td>\n",
       "      <td>4.000000</td>\n",
       "      <td>199.500000</td>\n",
       "      <td>3.000000</td>\n",
       "      <td>0.000000</td>\n",
       "      <td>0.000000</td>\n",
       "      <td>0.000000</td>\n",
       "      <td>NaN</td>\n",
       "      <td>NaN</td>\n",
       "      <td>NaN</td>\n",
       "    </tr>\n",
       "    <tr>\n",
       "      <th>75%</th>\n",
       "      <td>9000.25000</td>\n",
       "      <td>0.820000</td>\n",
       "      <td>0.860000</td>\n",
       "      <td>5.000000</td>\n",
       "      <td>243.000000</td>\n",
       "      <td>4.000000</td>\n",
       "      <td>0.000000</td>\n",
       "      <td>0.000000</td>\n",
       "      <td>0.000000</td>\n",
       "      <td>NaN</td>\n",
       "      <td>NaN</td>\n",
       "      <td>NaN</td>\n",
       "    </tr>\n",
       "    <tr>\n",
       "      <th>max</th>\n",
       "      <td>12000.00000</td>\n",
       "      <td>1.000000</td>\n",
       "      <td>1.000000</td>\n",
       "      <td>7.000000</td>\n",
       "      <td>310.000000</td>\n",
       "      <td>10.000000</td>\n",
       "      <td>1.000000</td>\n",
       "      <td>1.000000</td>\n",
       "      <td>1.000000</td>\n",
       "      <td>NaN</td>\n",
       "      <td>NaN</td>\n",
       "      <td>NaN</td>\n",
       "    </tr>\n",
       "  </tbody>\n",
       "</table>\n",
       "</div>"
      ],
      "text/plain": [
       "         EmployeeID  satisfaction_level  last_evaluation  number_project  \\\n",
       "count   12000.00000        12000.000000     12000.000000    12000.000000   \n",
       "unique          NaN                 NaN              NaN             NaN   \n",
       "top             NaN                 NaN              NaN             NaN   \n",
       "freq            NaN                 NaN              NaN             NaN   \n",
       "mean     6000.50000            0.629463         0.716558        3.801833   \n",
       "std      3464.24595            0.241100         0.168368        1.163906   \n",
       "min         1.00000            0.090000         0.360000        2.000000   \n",
       "25%      3000.75000            0.480000         0.570000        3.000000   \n",
       "50%      6000.50000            0.660000         0.720000        4.000000   \n",
       "75%      9000.25000            0.820000         0.860000        5.000000   \n",
       "max     12000.00000            1.000000         1.000000        7.000000   \n",
       "\n",
       "        average_montly_hours  time_spend_company  Work_accident      turnover  \\\n",
       "count           12000.000000        12000.000000   12000.000000  12000.000000   \n",
       "unique                   NaN                 NaN            NaN           NaN   \n",
       "top                      NaN                 NaN            NaN           NaN   \n",
       "freq                     NaN                 NaN            NaN           NaN   \n",
       "mean              200.437917            3.364667       0.154167      0.166667   \n",
       "std                48.740178            1.329787       0.361123      0.372694   \n",
       "min                96.000000            2.000000       0.000000      0.000000   \n",
       "25%               157.000000            3.000000       0.000000      0.000000   \n",
       "50%               199.500000            3.000000       0.000000      0.000000   \n",
       "75%               243.000000            4.000000       0.000000      0.000000   \n",
       "max               310.000000           10.000000       1.000000      1.000000   \n",
       "\n",
       "        promotion_last_5years   dept salary satisfaction_range  \n",
       "count            12000.000000  12000  12000              12000  \n",
       "unique                    NaN     10      3                  3  \n",
       "top                       NaN  sales    low               High  \n",
       "freq                      NaN   3245   5748               6941  \n",
       "mean                 0.016917    NaN    NaN                NaN  \n",
       "std                  0.128965    NaN    NaN                NaN  \n",
       "min                  0.000000    NaN    NaN                NaN  \n",
       "25%                  0.000000    NaN    NaN                NaN  \n",
       "50%                  0.000000    NaN    NaN                NaN  \n",
       "75%                  0.000000    NaN    NaN                NaN  \n",
       "max                  1.000000    NaN    NaN                NaN  "
      ]
     },
     "execution_count": 12,
     "metadata": {},
     "output_type": "execute_result"
    }
   ],
   "source": [
    "df.describe(include='all')"
   ]
  },
  {
   "cell_type": "markdown",
   "id": "5280ab12",
   "metadata": {},
   "source": [
    "### Checking Outliers"
   ]
  },
  {
   "cell_type": "code",
   "execution_count": 13,
   "id": "45e98be1",
   "metadata": {
    "scrolled": true
   },
   "outputs": [
    {
     "data": {
      "text/html": [
       "<div>\n",
       "<style scoped>\n",
       "    .dataframe tbody tr th:only-of-type {\n",
       "        vertical-align: middle;\n",
       "    }\n",
       "\n",
       "    .dataframe tbody tr th {\n",
       "        vertical-align: top;\n",
       "    }\n",
       "\n",
       "    .dataframe thead th {\n",
       "        text-align: right;\n",
       "    }\n",
       "</style>\n",
       "<table border=\"1\" class=\"dataframe\">\n",
       "  <thead>\n",
       "    <tr style=\"text-align: right;\">\n",
       "      <th></th>\n",
       "      <th>count</th>\n",
       "      <th>mean</th>\n",
       "      <th>std</th>\n",
       "      <th>min</th>\n",
       "      <th>25%</th>\n",
       "      <th>50%</th>\n",
       "      <th>75%</th>\n",
       "      <th>max</th>\n",
       "    </tr>\n",
       "  </thead>\n",
       "  <tbody>\n",
       "    <tr>\n",
       "      <th>EmployeeID</th>\n",
       "      <td>12000.0</td>\n",
       "      <td>6000.500000</td>\n",
       "      <td>3464.245950</td>\n",
       "      <td>1.00</td>\n",
       "      <td>3000.75</td>\n",
       "      <td>6000.50</td>\n",
       "      <td>9000.25</td>\n",
       "      <td>12000.0</td>\n",
       "    </tr>\n",
       "    <tr>\n",
       "      <th>satisfaction_level</th>\n",
       "      <td>12000.0</td>\n",
       "      <td>0.629463</td>\n",
       "      <td>0.241100</td>\n",
       "      <td>0.09</td>\n",
       "      <td>0.48</td>\n",
       "      <td>0.66</td>\n",
       "      <td>0.82</td>\n",
       "      <td>1.0</td>\n",
       "    </tr>\n",
       "    <tr>\n",
       "      <th>last_evaluation</th>\n",
       "      <td>12000.0</td>\n",
       "      <td>0.716558</td>\n",
       "      <td>0.168368</td>\n",
       "      <td>0.36</td>\n",
       "      <td>0.57</td>\n",
       "      <td>0.72</td>\n",
       "      <td>0.86</td>\n",
       "      <td>1.0</td>\n",
       "    </tr>\n",
       "    <tr>\n",
       "      <th>number_project</th>\n",
       "      <td>12000.0</td>\n",
       "      <td>3.801833</td>\n",
       "      <td>1.163906</td>\n",
       "      <td>2.00</td>\n",
       "      <td>3.00</td>\n",
       "      <td>4.00</td>\n",
       "      <td>5.00</td>\n",
       "      <td>7.0</td>\n",
       "    </tr>\n",
       "    <tr>\n",
       "      <th>average_montly_hours</th>\n",
       "      <td>12000.0</td>\n",
       "      <td>200.437917</td>\n",
       "      <td>48.740178</td>\n",
       "      <td>96.00</td>\n",
       "      <td>157.00</td>\n",
       "      <td>199.50</td>\n",
       "      <td>243.00</td>\n",
       "      <td>310.0</td>\n",
       "    </tr>\n",
       "    <tr>\n",
       "      <th>time_spend_company</th>\n",
       "      <td>12000.0</td>\n",
       "      <td>3.364667</td>\n",
       "      <td>1.329787</td>\n",
       "      <td>2.00</td>\n",
       "      <td>3.00</td>\n",
       "      <td>3.00</td>\n",
       "      <td>4.00</td>\n",
       "      <td>10.0</td>\n",
       "    </tr>\n",
       "    <tr>\n",
       "      <th>Work_accident</th>\n",
       "      <td>12000.0</td>\n",
       "      <td>0.154167</td>\n",
       "      <td>0.361123</td>\n",
       "      <td>0.00</td>\n",
       "      <td>0.00</td>\n",
       "      <td>0.00</td>\n",
       "      <td>0.00</td>\n",
       "      <td>1.0</td>\n",
       "    </tr>\n",
       "    <tr>\n",
       "      <th>turnover</th>\n",
       "      <td>12000.0</td>\n",
       "      <td>0.166667</td>\n",
       "      <td>0.372694</td>\n",
       "      <td>0.00</td>\n",
       "      <td>0.00</td>\n",
       "      <td>0.00</td>\n",
       "      <td>0.00</td>\n",
       "      <td>1.0</td>\n",
       "    </tr>\n",
       "    <tr>\n",
       "      <th>promotion_last_5years</th>\n",
       "      <td>12000.0</td>\n",
       "      <td>0.016917</td>\n",
       "      <td>0.128965</td>\n",
       "      <td>0.00</td>\n",
       "      <td>0.00</td>\n",
       "      <td>0.00</td>\n",
       "      <td>0.00</td>\n",
       "      <td>1.0</td>\n",
       "    </tr>\n",
       "  </tbody>\n",
       "</table>\n",
       "</div>"
      ],
      "text/plain": [
       "                         count         mean          std    min      25%  \\\n",
       "EmployeeID             12000.0  6000.500000  3464.245950   1.00  3000.75   \n",
       "satisfaction_level     12000.0     0.629463     0.241100   0.09     0.48   \n",
       "last_evaluation        12000.0     0.716558     0.168368   0.36     0.57   \n",
       "number_project         12000.0     3.801833     1.163906   2.00     3.00   \n",
       "average_montly_hours   12000.0   200.437917    48.740178  96.00   157.00   \n",
       "time_spend_company     12000.0     3.364667     1.329787   2.00     3.00   \n",
       "Work_accident          12000.0     0.154167     0.361123   0.00     0.00   \n",
       "turnover               12000.0     0.166667     0.372694   0.00     0.00   \n",
       "promotion_last_5years  12000.0     0.016917     0.128965   0.00     0.00   \n",
       "\n",
       "                           50%      75%      max  \n",
       "EmployeeID             6000.50  9000.25  12000.0  \n",
       "satisfaction_level        0.66     0.82      1.0  \n",
       "last_evaluation           0.72     0.86      1.0  \n",
       "number_project            4.00     5.00      7.0  \n",
       "average_montly_hours    199.50   243.00    310.0  \n",
       "time_spend_company        3.00     4.00     10.0  \n",
       "Work_accident             0.00     0.00      1.0  \n",
       "turnover                  0.00     0.00      1.0  \n",
       "promotion_last_5years     0.00     0.00      1.0  "
      ]
     },
     "execution_count": 13,
     "metadata": {},
     "output_type": "execute_result"
    }
   ],
   "source": [
    "df.describe().T\n"
   ]
  },
  {
   "cell_type": "markdown",
   "id": "5648a219",
   "metadata": {},
   "source": [
    "*** Columns whose MAX or MIN value is very different from the MEAN value - have outliers. ***\n",
    "\n",
    "*** For example, in 'time_spend_company', the MAX value is 10.0 while its mean is 3.36. ***\n",
    "\n",
    "*** The mean is sensitive to outliers, but the fact the mean is so small compared to the max value indicates the max value is an outlier. ***"
   ]
  },
  {
   "cell_type": "code",
   "execution_count": 14,
   "id": "842fd138",
   "metadata": {},
   "outputs": [
    {
     "data": {
      "text/plain": [
       "EmployeeID                0.000000\n",
       "satisfaction_level        0.000000\n",
       "last_evaluation           0.000000\n",
       "number_project            0.000000\n",
       "average_montly_hours      0.000000\n",
       "time_spend_company        6.866667\n",
       "Work_accident            15.416667\n",
       "turnover                 16.666667\n",
       "promotion_last_5years     1.691667\n",
       "dtype: float64"
      ]
     },
     "execution_count": 14,
     "metadata": {},
     "output_type": "execute_result"
    }
   ],
   "source": [
    "## 1st Find columns that have potential outliers\n",
    "\n",
    "outliers = (df.select_dtypes(['float' , 'int'])\n",
    " .apply(lambda x: (x >  plt.boxplot(x)['whiskers'][1].get_ydata()[1] ) \n",
    "        | (x <  plt.boxplot(x)['whiskers'][0].get_ydata()[1] ) ))\n",
    "plt.close()\n",
    "\n",
    "(outliers).mean()*100"
   ]
  },
  {
   "cell_type": "markdown",
   "id": "ae7eb2e0",
   "metadata": {},
   "source": [
    "*** Columns with non-zero values have outliers.  ***\n",
    "\n",
    "*** 'Work_accident', 'turnover', 'promotion_last_5years' are categorical columns. So we'll ignore them. *** \n",
    "\n",
    "*** Now we need to handle 'time_spend_company' column's outliers.*** "
   ]
  },
  {
   "cell_type": "code",
   "execution_count": 15,
   "id": "e211ac3f",
   "metadata": {},
   "outputs": [
    {
     "data": {
      "text/plain": [
       "<AxesSubplot:xlabel='time_spend_company'>"
      ]
     },
     "execution_count": 15,
     "metadata": {},
     "output_type": "execute_result"
    },
    {
     "data": {
      "image/png": "[encoded data removed]",
      "text/plain": [
       "<Figure size 432x288 with 1 Axes>"
      ]
     },
     "metadata": {
      "needs_background": "light"
     },
     "output_type": "display_data"
    }
   ],
   "source": [
    "## 2nd - Plot the column to visualize outliers\n",
    "# Box-plot\n",
    "\n",
    "sns.boxplot(x=df['time_spend_company'])\n"
   ]
  },
  {
   "cell_type": "markdown",
   "id": "9d18b5c5",
   "metadata": {},
   "source": [
    "*** Although we have some extreme values in 'time_spend_company', but they simply reflect that few employees worked for long years (6 to 10 years) in the company. Since this information is valuable, we will not delete these rows. ***\n",
    "\n",
    "*** Also, replacing them with mean, median or mode values does not make logical sense, so the outlying rows will remain unchanged. ***"
   ]
  },
  {
   "cell_type": "markdown",
   "id": "7434e21a",
   "metadata": {},
   "source": [
    "## Graphical Summary"
   ]
  },
  {
   "cell_type": "markdown",
   "id": "9187f041",
   "metadata": {},
   "source": [
    "### Categorical features"
   ]
  },
  {
   "cell_type": "code",
   "execution_count": 16,
   "id": "37b3633a",
   "metadata": {},
   "outputs": [
    {
     "data": {
      "text/plain": [
       "0    10000\n",
       "1     2000\n",
       "Name: turnover, dtype: int64"
      ]
     },
     "execution_count": 16,
     "metadata": {},
     "output_type": "execute_result"
    }
   ],
   "source": [
    "# check count of each value in the 'turnover' column\n",
    "attritioncount = df[\"turnover\"].value_counts()\n",
    "attritioncount"
   ]
  },
  {
   "cell_type": "code",
   "execution_count": 17,
   "id": "97223a48",
   "metadata": {},
   "outputs": [
    {
     "data": {
      "image/png": "[encoded data removed]",
      "text/plain": [
       "<Figure size 432x288 with 1 Axes>"
      ]
     },
     "metadata": {},
     "output_type": "display_data"
    }
   ],
   "source": [
    "# Pie chart for 'turnover' column\n",
    "\n",
    "labels=['No','Yes']\n",
    "colors=['gold','lightskyblue']\n",
    "explode=(0.2,0)\n",
    "\n",
    "plt.pie(attritioncount,explode=explode,labels=labels,colors=colors,\n",
    "        autopct='%1.1f%%',shadow=True,startangle=45)\n",
    "plt.show()"
   ]
  },
  {
   "cell_type": "code",
   "execution_count": 18,
   "id": "68f765d9",
   "metadata": {},
   "outputs": [
    {
     "data": {
      "text/plain": [
       "0    10150\n",
       "1     1850\n",
       "Name: Work_accident, dtype: int64"
      ]
     },
     "execution_count": 18,
     "metadata": {},
     "output_type": "execute_result"
    }
   ],
   "source": [
    "# check count of each value in the 'Work_accident' column\n",
    "accidentcount = df[\"Work_accident\"].value_counts()\n",
    "accidentcount"
   ]
  },
  {
   "cell_type": "code",
   "execution_count": 19,
   "id": "ecbdbb64",
   "metadata": {},
   "outputs": [
    {
     "data": {
      "image/png": "[encoded data removed]",
      "text/plain": [
       "<Figure size 432x288 with 1 Axes>"
      ]
     },
     "metadata": {
      "needs_background": "light"
     },
     "output_type": "display_data"
    }
   ],
   "source": [
    "# Create Bar-plot on 'Work_accident' column\n",
    "x_value = accidentcount.index \n",
    "y_value = accidentcount.values \n",
    "\n",
    "ax = sns.barplot(x = x_value, y = y_value, \n",
    "              data = df)\n",
    "ax.set(xlabel='Accident', ylabel='Count', title='Accident Counts')\n",
    "plt.show()"
   ]
  },
  {
   "cell_type": "markdown",
   "id": "86484bc0",
   "metadata": {},
   "source": [
    "*** 1850 employees met with an accident in 1 year. Regardless of whether this affects attrition, more safety measures need to be put in place to bring down this number.  ***"
   ]
  },
  {
   "cell_type": "code",
   "execution_count": 20,
   "id": "fa44c78d",
   "metadata": {},
   "outputs": [
    {
     "name": "stdout",
     "output_type": "stream",
     "text": [
      "0    11797\n",
      "1      203\n",
      "Name: promotion_last_5years, dtype: int64\n",
      "----- Percent Values -----\n",
      "0    98.308333\n",
      "1     1.691667\n",
      "Name: promotion_last_5years, dtype: float64\n"
     ]
    },
    {
     "data": {
      "image/png": "[encoded data removed]",
      "text/plain": [
       "<Figure size 432x288 with 1 Axes>"
      ]
     },
     "metadata": {
      "needs_background": "light"
     },
     "output_type": "display_data"
    }
   ],
   "source": [
    "# check count and percent value of each value in the 'promotion_last_5years' column\n",
    "\n",
    "promotioncount = df[\"promotion_last_5years\"].value_counts()\n",
    "print(promotioncount)\n",
    "\n",
    "percent_values = df[\"promotion_last_5years\"].value_counts(normalize=True) * 100\n",
    "print('----- Percent Values -----')\n",
    "print(percent_values)\n",
    "\n",
    "# Create Bar-plot on 'promotion_last_5years' column\n",
    "x_value = promotioncount.index \n",
    "y_value = promotioncount.values \n",
    "\n",
    "ax = sns.barplot(x = x_value, y = y_value, \n",
    "              data = df)\n",
    "ax.set(xlabel='Promotion', ylabel='Count', title='Promotion Counts')\n",
    "plt.show()"
   ]
  },
  {
   "cell_type": "markdown",
   "id": "48d11367",
   "metadata": {},
   "source": [
    "*** In the first look we see that less than 2% of the employees received promotion in the last 5 years. But before concluding anything, it should be noted that this feature describes promotion received in the last 5 years - 'Yes/ No'. ***\n",
    "\n",
    "*** It includes data for all those employees have joined recently (less than 5 years ago), which does not reflect the true value of this feature. For instance, if an employee joined 2 years ago and falls under the 'No' category, it does not mean they did not receive promotion in 5 years. This leads to disparity in the values for this feature. ***\n",
    "\n",
    "*** As a result, this feature should be analyzed only for those employees who have been a part of the company for 5 years or more. ***"
   ]
  },
  {
   "cell_type": "code",
   "execution_count": 21,
   "id": "b5773a6f",
   "metadata": {},
   "outputs": [
    {
     "name": "stdout",
     "output_type": "stream",
     "text": [
      "Count of employees > 5 years: \n",
      "1886\n",
      " \n",
      "----- Count with respect to attrition -----\n",
      "0    1833\n",
      "1      53\n",
      "Name: promotion_last_5years, dtype: int64\n",
      " \n",
      "----- Percent Values -----\n",
      "0    97.18982\n",
      "1     2.81018\n",
      "Name: promotion_last_5years, dtype: float64\n",
      " \n"
     ]
    },
    {
     "data": {
      "image/png": "[encoded data removed]",
      "text/plain": [
       "<Figure size 432x288 with 1 Axes>"
      ]
     },
     "metadata": {
      "needs_background": "light"
     },
     "output_type": "display_data"
    }
   ],
   "source": [
    "## Plot for employees who have spent 5 years or more in the company\n",
    "\n",
    "\n",
    "# Create a dataframe for these employees\n",
    "df_emp5 = df.query(\"time_spend_company >= 5\")\n",
    "\n",
    "# Count of employees who have spent 5 years or more \n",
    "empCount_5yrs = df_emp5.shape[0]\n",
    "print('Count of employees > 5 years: ')\n",
    "print(empCount_5yrs)\n",
    "print(' ')\n",
    "\n",
    "promotioncount_emp5yrs = df_emp5[\"promotion_last_5years\"].value_counts()\n",
    "print('----- Count with respect to attrition -----')\n",
    "print(promotioncount_emp5yrs)\n",
    "print(' ')\n",
    "\n",
    "percent_values_emp5 = df_emp5[\"promotion_last_5years\"].value_counts(normalize=True) * 100\n",
    "print('----- Percent Values -----')\n",
    "print(percent_values_emp5)\n",
    "print(' ')\n",
    "\n",
    "# Create Bar-plot on 'promotion_last_5years' column\n",
    "x_value = promotioncount_emp5yrs.index \n",
    "y_value = promotioncount_emp5yrs.values \n",
    "\n",
    "ax = sns.barplot(x = x_value, y = y_value, \n",
    "              data = df)\n",
    "ax.set(xlabel='Promotion', ylabel='Count', title='Promotion Counts for employees 5 years or more in the company')\n",
    "plt.show()"
   ]
  },
  {
   "cell_type": "markdown",
   "id": "13168935",
   "metadata": {},
   "source": [
    "*** Less than 3% of eligible employees received promotion in the last 5 years. ***"
   ]
  },
  {
   "cell_type": "code",
   "execution_count": 22,
   "id": "937bc06a",
   "metadata": {},
   "outputs": [
    {
     "name": "stdout",
     "output_type": "stream",
     "text": [
      "low       5748\n",
      "medium    5262\n",
      "high       990\n",
      "Name: salary, dtype: int64\n",
      "----- Percent Values -----\n",
      "low       47.90\n",
      "medium    43.85\n",
      "high       8.25\n",
      "Name: salary, dtype: float64\n"
     ]
    },
    {
     "data": {
      "image/png": "[encoded data removed]",
      "text/plain": [
       "<Figure size 432x288 with 1 Axes>"
      ]
     },
     "metadata": {
      "needs_background": "light"
     },
     "output_type": "display_data"
    }
   ],
   "source": [
    "# check count and percent of each value in the 'salary' column\n",
    "\n",
    "salarycount = df[\"salary\"].value_counts()\n",
    "print(salarycount)\n",
    "\n",
    "percent_values_sal = df[\"salary\"].value_counts(normalize=True) * 100\n",
    "print('----- Percent Values -----')\n",
    "print(percent_values_sal)\n",
    "\n",
    "\n",
    "# Create Bar-plot on 'salary' column\n",
    "x_value = salarycount.index \n",
    "y_value = salarycount.values \n",
    "\n",
    "ax = sns.barplot(x = x_value, y = y_value, \n",
    "              data = df)\n",
    "ax.set(xlabel='Salary level', ylabel='Employee Count', title='Salary Counts')\n",
    "plt.show()"
   ]
  },
  {
   "cell_type": "code",
   "execution_count": 23,
   "id": "c1c8f316",
   "metadata": {},
   "outputs": [
    {
     "name": "stdout",
     "output_type": "stream",
     "text": [
      "High      6941\n",
      "Medium    3655\n",
      "Low       1404\n",
      "Name: satisfaction_range, dtype: int64\n",
      "----- Percent Values -----\n",
      "High      57.841667\n",
      "Medium    30.458333\n",
      "Low       11.700000\n",
      "Name: satisfaction_range, dtype: float64\n"
     ]
    },
    {
     "data": {
      "image/png": "[encoded data removed]",
      "text/plain": [
       "<Figure size 432x288 with 1 Axes>"
      ]
     },
     "metadata": {
      "needs_background": "light"
     },
     "output_type": "display_data"
    }
   ],
   "source": [
    "# check percentage of each value in the 'satisfaction_range' column\n",
    "\n",
    "satifactioncount = df[\"satisfaction_range\"].value_counts()\n",
    "print(satifactioncount)\n",
    "\n",
    "percent_values_sat = df[\"satisfaction_range\"].value_counts(normalize=True) * 100\n",
    "print('----- Percent Values -----')\n",
    "print(percent_values_sat)\n",
    "\n",
    "\n",
    "# Create Bar-plot on 'dept' column\n",
    "x_value = satifactioncount.index \n",
    "y_value = satifactioncount.values \n",
    "\n",
    "ax = sns.barplot(x = x_value, y = y_value, \n",
    "              data = df)\n",
    "ax.set(xlabel='satisfaction range', ylabel='Count', title='satisfaction range Counts')\n",
    "\n",
    "plt.show()"
   ]
  },
  {
   "cell_type": "code",
   "execution_count": 24,
   "id": "57aaf4ec",
   "metadata": {},
   "outputs": [
    {
     "name": "stdout",
     "output_type": "stream",
     "text": [
      "sales          3245\n",
      "technical      2244\n",
      "support        1821\n",
      "IT              977\n",
      "RandD           695\n",
      "product_mng     686\n",
      "marketing       673\n",
      "accounting      622\n",
      "hr              601\n",
      "management      436\n",
      "Name: dept, dtype: int64\n"
     ]
    },
    {
     "data": {
      "image/png": "[encoded data removed]",
      "text/plain": [
       "<Figure size 720x576 with 1 Axes>"
      ]
     },
     "metadata": {
      "needs_background": "light"
     },
     "output_type": "display_data"
    }
   ],
   "source": [
    "# check count of each value in the 'dept' column\n",
    "salescount = df[\"dept\"].value_counts()\n",
    "print(salescount)\n",
    "\n",
    "# Create Bar-plot on 'dept' column\n",
    "plt.figure(figsize=(10,8))\n",
    "\n",
    "x_value = salescount.index \n",
    "y_value = salescount.values \n",
    "\n",
    "ax = sns.barplot(x = x_value, y = y_value, \n",
    "              data = df)\n",
    "ax.set(xlabel='Department', ylabel='Count', title='Department Counts')\n",
    "\n",
    "plt.show()"
   ]
  },
  {
   "cell_type": "markdown",
   "id": "611af736",
   "metadata": {},
   "source": [
    "*** The Sales department has the largest number of employees, followed by the Technical and Support departments, \n",
    "totaling about 7300 employees. ***\n",
    "\n",
    "*** Management is the smallest of them with only 430 employees. ***"
   ]
  },
  {
   "cell_type": "markdown",
   "id": "f5efbc88",
   "metadata": {},
   "source": [
    "### Numerical Features\n",
    "\n",
    "Create histogram for Numerical features\n"
   ]
  },
  {
   "cell_type": "code",
   "execution_count": 25,
   "id": "dbef32f6",
   "metadata": {},
   "outputs": [
    {
     "name": "stdout",
     "output_type": "stream",
     "text": [
      "----- Percent Values -----\n",
      "satisfaction > 0.7: 5235\n",
      "satisfaction 0.5 to 0.7: 3372\n",
      "satisfaction < 0.5: 3393\n"
     ]
    },
    {
     "data": {
      "text/plain": [
       "Text(0.5, 1.0, 'satisfaction level of employees')"
      ]
     },
     "execution_count": 25,
     "metadata": {},
     "output_type": "execute_result"
    },
    {
     "data": {
      "image/png": "[encoded data removed]",
      "text/plain": [
       "<Figure size 720x432 with 1 Axes>"
      ]
     },
     "metadata": {
      "needs_background": "light"
     },
     "output_type": "display_data"
    }
   ],
   "source": [
    "# Create histogram on satisfaction_level column\n",
    "\n",
    "high_satisfaction = len(df[(df['satisfaction_level']> 0.7)])\n",
    "med_satisfaction = len(df[(df['satisfaction_level']> 0.5) & (df['satisfaction_level']<=0.7)])\n",
    "low_satisfaction = len(df[(df['satisfaction_level']<= 0.5)])\n",
    "\n",
    "print('----- Percent Values -----')\n",
    "print('satisfaction > 0.7: '+ str(high_satisfaction))\n",
    "print('satisfaction 0.5 to 0.7: '+ str(med_satisfaction))\n",
    "print('satisfaction < 0.5: '+ str(low_satisfaction))\n",
    "\n",
    "figsize(10, 6) \n",
    "plt.hist(df['satisfaction_level'], color='green', edgecolor='black', bins=int(45/3))\n",
    " \n",
    "plt.xlabel('satisfaction level')\n",
    "plt.ylabel('Employee Count')\n",
    "plt.title('satisfaction level of employees')"
   ]
  },
  {
   "cell_type": "markdown",
   "id": "0e05ce37",
   "metadata": {},
   "source": [
    "*** Majority of the employees are satisfied with their work, with about 43% of employees highly satisfied (> 0.7 rating). ***\n",
    "\n",
    "*** At the other end of the spectrum, we have approximately 3400 employees (28%) with a low satisfaction level of below 0.5. ***"
   ]
  },
  {
   "cell_type": "code",
   "execution_count": 26,
   "id": "c5875d2f",
   "metadata": {},
   "outputs": [
    {
     "name": "stdout",
     "output_type": "stream",
     "text": [
      "----- Percent Values -----\n",
      "> 0.7 rating: 53.574999999999996\n",
      "< 0.4 rating: 1.2666666666666666\n"
     ]
    },
    {
     "data": {
      "text/plain": [
       "Text(0.5, 1.0, 'Last Evaluation rating counts')"
      ]
     },
     "execution_count": 26,
     "metadata": {},
     "output_type": "execute_result"
    },
    {
     "data": {
      "image/png": "[encoded data removed]",
      "text/plain": [
       "<Figure size 720x432 with 1 Axes>"
      ]
     },
     "metadata": {
      "needs_background": "light"
     },
     "output_type": "display_data"
    }
   ],
   "source": [
    "# Create histogram on last_evaluation column\n",
    "\n",
    "high_rating = df['last_evaluation'].ge(0.7).mean()*100\n",
    "low_rating = df['last_evaluation'].lt(0.4).mean()*100\n",
    "print('----- Percent Values -----')\n",
    "print('> 0.7 rating: '+ str(high_rating))\n",
    "print('< 0.4 rating: '+ str(low_rating))\n",
    "\n",
    "figsize(10, 6) \n",
    "plt.hist(df['last_evaluation'], color='green', edgecolor='black', bins=int(45/3))\n",
    " \n",
    "plt.xlabel('Last Evaluation rating')\n",
    "plt.ylabel('Count')\n",
    "plt.title('Last Evaluation rating counts')\n"
   ]
  },
  {
   "cell_type": "markdown",
   "id": "a3b5a864",
   "metadata": {},
   "source": [
    "*** About 54% of the employees got good ratings (> 0.7). ***\n",
    "\n",
    "*** Only about 1% of the employees got low ratings (< 0.4). ***\n",
    "\n",
    "*** So majority of employees fall under the category of medium to high ratings. ***\n"
   ]
  },
  {
   "cell_type": "code",
   "execution_count": 27,
   "id": "3204a345",
   "metadata": {},
   "outputs": [
    {
     "data": {
      "text/plain": [
       "Text(0.5, 1.0, 'number of projects employee worked on')"
      ]
     },
     "execution_count": 27,
     "metadata": {},
     "output_type": "execute_result"
    },
    {
     "data": {
      "image/png": "[encoded data removed]",
      "text/plain": [
       "<Figure size 720x432 with 1 Axes>"
      ]
     },
     "metadata": {
      "needs_background": "light"
     },
     "output_type": "display_data"
    }
   ],
   "source": [
    "# Create histogram on number_project column\n",
    "figsize(10, 6) \n",
    "plt.hist(df['number_project'], color='green', edgecolor='black', bins=int(20))\n",
    " \n",
    "plt.xlabel('number of projects')\n",
    "plt.ylabel('Count')\n",
    "plt.title('number of projects employee worked on')\n"
   ]
  },
  {
   "cell_type": "markdown",
   "id": "3a15ecef",
   "metadata": {},
   "source": [
    "*** Majority of employees worked in 3-5 projects. ***"
   ]
  },
  {
   "cell_type": "code",
   "execution_count": 28,
   "id": "b63eee41",
   "metadata": {},
   "outputs": [
    {
     "data": {
      "text/plain": [
       "Text(0.5, 1.0, 'Average monthly hours employee worked')"
      ]
     },
     "execution_count": 28,
     "metadata": {},
     "output_type": "execute_result"
    },
    {
     "data": {
      "image/png": "[encoded data removed]",
      "text/plain": [
       "<Figure size 720x432 with 1 Axes>"
      ]
     },
     "metadata": {
      "needs_background": "light"
     },
     "output_type": "display_data"
    }
   ],
   "source": [
    "# Create histogram on average_montly_hours column\n",
    "figsize(10, 6) \n",
    "plt.hist(df['average_montly_hours'], color='green', edgecolor='black', bins=int(20))\n",
    " \n",
    "plt.xlabel('average montly hours')\n",
    "plt.ylabel('Count')\n",
    "plt.title('Average monthly hours employee worked')"
   ]
  },
  {
   "cell_type": "markdown",
   "id": "670f2d7f",
   "metadata": {},
   "source": [
    "*** 'Average monthly hours' is a bi-modal distribution, peaking at around 150 hours and 260 hours ***"
   ]
  },
  {
   "cell_type": "code",
   "execution_count": 29,
   "id": "a019729a",
   "metadata": {},
   "outputs": [
    {
     "data": {
      "text/plain": [
       "Text(0.5, 1.0, 'time spent in the company')"
      ]
     },
     "execution_count": 29,
     "metadata": {},
     "output_type": "execute_result"
    },
    {
     "data": {
      "image/png": "[encoded data removed]",
      "text/plain": [
       "<Figure size 720x432 with 1 Axes>"
      ]
     },
     "metadata": {
      "needs_background": "light"
     },
     "output_type": "display_data"
    }
   ],
   "source": [
    "# Create histogram on time_spend_company column\n",
    "\n",
    "figsize(10, 6) \n",
    "plt.hist(df['time_spend_company'], color='green', edgecolor='black', bins=int(20))\n",
    " \n",
    "plt.xlabel('time spent')\n",
    "plt.ylabel('Count')\n",
    "plt.title('time spent in the company')"
   ]
  },
  {
   "cell_type": "markdown",
   "id": "a8763c21",
   "metadata": {},
   "source": [
    "*** A right-skewed distribution tells us that fewer employees stay at the company as number of years increases *** "
   ]
  },
  {
   "cell_type": "markdown",
   "id": "b45f747b",
   "metadata": {},
   "source": [
    "# Relation between variables\n",
    "\n",
    "Check how each independent variable behaves with respect to the dependent variable 'turnover'"
   ]
  },
  {
   "cell_type": "markdown",
   "id": "68cc21ba",
   "metadata": {},
   "source": [
    "## Relation between Categorical and Discrete independent variables and 'turnover'"
   ]
  },
  {
   "cell_type": "code",
   "execution_count": 30,
   "id": "9e8c7136",
   "metadata": {},
   "outputs": [
    {
     "name": "stdout",
     "output_type": "stream",
     "text": [
      "Work_accident     0     1\n",
      "turnover                 \n",
      "0              8255  1745\n",
      "1              1895   105\n"
     ]
    },
    {
     "data": {
      "image/png": "[encoded data removed]",
      "text/plain": [
       "<Figure size 720x432 with 1 Axes>"
      ]
     },
     "metadata": {
      "needs_background": "light"
     },
     "output_type": "display_data"
    }
   ],
   "source": [
    "# Breakdown of Attribution data with respect to Work_accident\n",
    "\n",
    "# Creating crosstab\n",
    "print(pd.crosstab(df['turnover'], df['Work_accident']))\n",
    " \n",
    "# Creating barplot\n",
    "ax = pd.crosstab(df['Work_accident'],df['turnover']).plot(kind='bar', rot=0)\n",
    "ax.set_xticklabels(labels=['No', 'Yes'])\n",
    "ax.legend([\"No\", \"Yes\"], title='Turnover')\n",
    "\n",
    "plt.title('Attrition with respect to Work accidents')\n",
    "plt.xlabel('Work accidents')\n",
    "plt.ylabel('Count of Employees')\n",
    "plt.show()"
   ]
  },
  {
   "cell_type": "markdown",
   "id": "45de8c6c",
   "metadata": {},
   "source": [
    "*** Out of all the employees who left, only 5% of them met with an accident at work ***"
   ]
  },
  {
   "cell_type": "code",
   "execution_count": 31,
   "id": "c7818eea",
   "metadata": {},
   "outputs": [
    {
     "name": "stdout",
     "output_type": "stream",
     "text": [
      "promotion_last_5years     0   1\n",
      "turnover                       \n",
      "0                      1243  52\n",
      "1                       590   1\n"
     ]
    },
    {
     "data": {
      "image/png": "[encoded data removed]",
      "text/plain": [
       "<Figure size 720x432 with 1 Axes>"
      ]
     },
     "metadata": {
      "needs_background": "light"
     },
     "output_type": "display_data"
    }
   ],
   "source": [
    "## Plot for employees who have spent 5 years or more in the company\n",
    "\n",
    "# Creating crosstab\n",
    "print(pd.crosstab(df_emp5['turnover'], df_emp5['promotion_last_5years']))\n",
    " \n",
    "# Creating barplot\n",
    "ax = pd.crosstab(df_emp5['promotion_last_5years'],df_emp5['turnover']).plot(kind='bar', rot=0)\n",
    "ax.set_xticklabels(labels=['No', 'Yes'])\n",
    "ax.legend([\"No\", \"Yes\"], title='Turnover')\n",
    "\n",
    "plt.title('Attrition with respect to promotion in last 5 years - employees who spent 5 years or more')\n",
    "plt.xlabel('Promotion in last 5 years')\n",
    "plt.ylabel('Count of Employees')\n",
    "plt.show()"
   ]
  },
  {
   "cell_type": "markdown",
   "id": "5c076f96",
   "metadata": {},
   "source": [
    "*** Out of 591 employees who left, 590 of them did not receive a promotion. It's a big factor for employees leaving the company.  ***"
   ]
  },
  {
   "cell_type": "code",
   "execution_count": 32,
   "id": "ec3449f0",
   "metadata": {},
   "outputs": [
    {
     "name": "stdout",
     "output_type": "stream",
     "text": [
      "satisfaction_range  Low  Medium  High\n",
      "turnover                             \n",
      "0                   867    2742  6391\n",
      "1                   537     913   550\n"
     ]
    },
    {
     "data": {
      "image/png": "[encoded data removed]",
      "text/plain": [
       "<Figure size 720x432 with 1 Axes>"
      ]
     },
     "metadata": {
      "needs_background": "light"
     },
     "output_type": "display_data"
    }
   ],
   "source": [
    "# Breakdown of Attribution data with respect to satisfaction_range\n",
    "\n",
    "# Creating crosstab\n",
    "print(pd.crosstab(df['turnover'], df['satisfaction_range']))\n",
    " \n",
    "# Creating barplot\n",
    "ax = pd.crosstab(df['satisfaction_range'],df['turnover']).plot(kind='bar', rot=0)\n",
    "ax.legend([\"No\", \"Yes\"], title='Turnover')\n",
    "\n",
    "plt.title('Attrition with respect to satisfaction range')\n",
    "plt.xlabel('satisfaction Range')\n",
    "plt.ylabel('Count of Employees')\n",
    "plt.show()"
   ]
  },
  {
   "cell_type": "markdown",
   "id": "f67eb8f2",
   "metadata": {},
   "source": [
    "*** When analyzing the correlation between 'turnover' and 'satisfaction_range' there does not seem to be a strong correlation, as there have been attrition in every group (low, medium, high). But satisfaction being such an important factor, we must investigate it further by using the following method: ***\n",
    "\n",
    "- Use satisfaction_level instead of satisfaction_range to see if we find similar or different trends, as grouping of variables may result in masking the actual values."
   ]
  },
  {
   "cell_type": "markdown",
   "id": "d6b5881d",
   "metadata": {},
   "source": [
    "### Plot for 'turnover' vs 'satisfaction_level'"
   ]
  },
  {
   "cell_type": "code",
   "execution_count": 33,
   "id": "3f7f01a3",
   "metadata": {},
   "outputs": [
    {
     "data": {
      "image/png": "[encoded data removed]",
      "text/plain": [
       "<Figure size 720x432 with 1 Axes>"
      ]
     },
     "metadata": {
      "needs_background": "light"
     },
     "output_type": "display_data"
    }
   ],
   "source": [
    "# Attrition with respect to satisfaction level\n",
    "\n",
    "ax = sns.boxplot(x='turnover', y='satisfaction_level', data=df, palette='rainbow')\n",
    "ax.set_xticklabels(labels=['No', 'Yes'])\n",
    "\n",
    "plt.title('Attrition with respect to satisfaction level')\n",
    "plt.xlabel('Turnover')\n",
    "plt.ylabel('Satisfaction level')\n",
    "plt.show()\n",
    "\n",
    "#model = ols( '{} ~ C(turnover)'.format(satisfaction_level), data=df).fit()\n",
    "#print(sm.stats.anova_lm(model, typ=2))"
   ]
  },
  {
   "cell_type": "markdown",
   "id": "07ed141d",
   "metadata": {},
   "source": [
    "*** There is very little overlapping of data for turnover/ non-turnover employees. this indicates a clear correlation between these two variables. ***"
   ]
  },
  {
   "cell_type": "code",
   "execution_count": 34,
   "id": "2d869478",
   "metadata": {},
   "outputs": [
    {
     "name": "stdout",
     "output_type": "stream",
     "text": [
      "dept       IT  RandD  accounting   hr  management  marketing  product_mng  \\\n",
      "turnover                                                                    \n",
      "0         818    609         512  488         384        561          576   \n",
      "1         159     86         110  113          52        112          110   \n",
      "\n",
      "dept      sales  support  technical  \n",
      "turnover                             \n",
      "0          2689     1509       1854  \n",
      "1           556      312        390  \n"
     ]
    },
    {
     "data": {
      "image/png": "[encoded data removed]",
      "text/plain": [
       "<Figure size 720x432 with 1 Axes>"
      ]
     },
     "metadata": {
      "needs_background": "light"
     },
     "output_type": "display_data"
    }
   ],
   "source": [
    "# Breakdown of Attribution data with respect to dept\n",
    "\n",
    "# Creating crosstab\n",
    "print(pd.crosstab(df['turnover'], df['dept']))\n",
    " \n",
    "# Creating barplot\n",
    "ax = pd.crosstab(df['dept'],df['turnover']).plot(kind='bar', rot=0)\n",
    "#ax.set_xticklabels(labels=['No', 'Yes'])\n",
    "ax.legend([\"No\", \"Yes\"], title='Turnover')\n",
    "\n",
    "plt.title('Attrition with respect to departments')\n",
    "plt.xlabel('department')\n",
    "plt.ylabel('Count of Employees')\n",
    "plt.show()"
   ]
  },
  {
   "cell_type": "code",
   "execution_count": 35,
   "id": "1c7e3733",
   "metadata": {},
   "outputs": [
    {
     "name": "stdout",
     "output_type": "stream",
     "text": [
      "salary    high   low  medium\n",
      "turnover                    \n",
      "0          942  4566    4492\n",
      "1           48  1182     770\n"
     ]
    },
    {
     "data": {
      "image/png": "[encoded data removed]",
      "text/plain": [
       "<Figure size 720x432 with 1 Axes>"
      ]
     },
     "metadata": {
      "needs_background": "light"
     },
     "output_type": "display_data"
    }
   ],
   "source": [
    "# Breakdown of Attribution data with respect to salary\n",
    "\n",
    "# Creating crosstab\n",
    "print(pd.crosstab(df['turnover'], df['salary']))\n",
    " \n",
    "# Creating barplot\n",
    "ax = pd.crosstab(df['salary'],df['turnover']).plot(kind='bar', rot=0)\n",
    "#ax.set_xticklabels(labels=['No', 'Yes'])\n",
    "ax.legend([\"No\", \"Yes\"], title='Turnover')\n",
    "\n",
    "plt.title('Attrition with respect to salary')\n",
    "plt.xlabel('Salary range')\n",
    "plt.ylabel('Count of Employees')\n",
    "plt.show()"
   ]
  },
  {
   "cell_type": "code",
   "execution_count": 36,
   "id": "fdd177b9",
   "metadata": {},
   "outputs": [
    {
     "name": "stdout",
     "output_type": "stream",
     "text": [
      "number_project    2     3     4     5    6    7\n",
      "turnover                                       \n",
      "0               725  3482  3448  1890  455    0\n",
      "1               865    38   237   343  372  145\n"
     ]
    },
    {
     "data": {
      "image/png": "[encoded data removed]",
      "text/plain": [
       "<Figure size 720x432 with 1 Axes>"
      ]
     },
     "metadata": {
      "needs_background": "light"
     },
     "output_type": "display_data"
    }
   ],
   "source": [
    "# Breakdown of Attribution data with respect to number of projects\n",
    "\n",
    "# Creating crosstab\n",
    "print(pd.crosstab(df['turnover'], df['number_project']))\n",
    " \n",
    "# Creating barplot\n",
    "ax = pd.crosstab(df['number_project'],df['turnover']).plot(kind='bar', rot=0)\n",
    "#ax.set_xticklabels(labels=['No', 'Yes'])\n",
    "ax.legend([\"No\", \"Yes\"], title='Turnover')\n",
    "\n",
    "plt.title('Attrition with respect to number of projects')\n",
    "plt.xlabel('number of projects')\n",
    "plt.ylabel('Count of Employees')\n",
    "plt.show()\n",
    "\n"
   ]
  },
  {
   "cell_type": "markdown",
   "id": "c1dbaa54",
   "metadata": {},
   "source": [
    "*** People working in 2 projects have seen the highest attrition. But the trend here is not very straightforward, as attrition count seems to be quite uniformly distributed among employees working on 4,5 and 6 projects. There doesn't seem to be a relation between this variable and turnover. ***"
   ]
  },
  {
   "cell_type": "code",
   "execution_count": 37,
   "id": "1c52acb0",
   "metadata": {},
   "outputs": [
    {
     "name": "stdout",
     "output_type": "stream",
     "text": [
      "time_spend_company    2     3     4    5    6   7   8    10\n",
      "turnover                                                   \n",
      "0                   2879  4316  1510  580  433  94  81  107\n",
      "1                     31   882   496  482  109   0   0    0\n"
     ]
    },
    {
     "data": {
      "image/png": "[encoded data removed]",
      "text/plain": [
       "<Figure size 720x432 with 1 Axes>"
      ]
     },
     "metadata": {
      "needs_background": "light"
     },
     "output_type": "display_data"
    }
   ],
   "source": [
    "# Breakdown of Attribution data with respect to time spend in the company\n",
    "\n",
    "# Creating crosstab\n",
    "print(pd.crosstab(df['turnover'], df['time_spend_company']))\n",
    " \n",
    "# Creating barplot\n",
    "ax = pd.crosstab(df['time_spend_company'],df['turnover']).plot(kind='bar', rot=0)\n",
    "ax.legend([\"No\", \"Yes\"], title='Turnover')\n",
    "\n",
    "plt.title('Attrition with respect to time spent in the company')\n",
    "plt.xlabel('Time spent in the company (years)')\n",
    "plt.ylabel('Count of Employees')\n",
    "plt.show()\n",
    "\n"
   ]
  },
  {
   "cell_type": "markdown",
   "id": "0434dd59",
   "metadata": {},
   "source": [
    "## Relation between Continuous independent variables and 'turnover'"
   ]
  },
  {
   "cell_type": "code",
   "execution_count": 38,
   "id": "83e7231d",
   "metadata": {},
   "outputs": [
    {
     "data": {
      "image/png": "[encoded data removed]",
      "text/plain": [
       "<Figure size 720x432 with 1 Axes>"
      ]
     },
     "metadata": {
      "needs_background": "light"
     },
     "output_type": "display_data"
    }
   ],
   "source": [
    "# Attrition with respect to satisfaction level\n",
    "\n",
    "ax = sns.boxplot(x='turnover', y='satisfaction_level', data=df, palette='rainbow')\n",
    "ax.set_xticklabels(labels=['No', 'Yes'])\n",
    "\n",
    "plt.title('Attrition with respect to satisfaction level')\n",
    "plt.xlabel('Turnover')\n",
    "plt.ylabel('Satisfaction level')\n",
    "plt.show()\n",
    "\n",
    "#model = ols( '{} ~ C(turnover)'.format(satisfaction_level), data=df).fit()\n",
    "#print(sm.stats.anova_lm(model, typ=2))"
   ]
  },
  {
   "cell_type": "code",
   "execution_count": 39,
   "id": "645cfd2b",
   "metadata": {},
   "outputs": [
    {
     "data": {
      "image/png": "[encoded data removed]",
      "text/plain": [
       "<Figure size 720x432 with 1 Axes>"
      ]
     },
     "metadata": {
      "needs_background": "light"
     },
     "output_type": "display_data"
    }
   ],
   "source": [
    "# Attrition with respect to last evaluation\n",
    "\n",
    "ax = sns.boxplot(x='turnover', y='last_evaluation', data=df, palette='rainbow')\n",
    "ax.set_xticklabels(labels=['No', 'Yes'])\n",
    "\n",
    "plt.title('Attrition with respect to last evaluation')\n",
    "plt.xlabel('Turnover')\n",
    "plt.ylabel('Last Evaluation rating')\n",
    "plt.show()"
   ]
  },
  {
   "cell_type": "code",
   "execution_count": 40,
   "id": "d97e0622",
   "metadata": {},
   "outputs": [
    {
     "data": {
      "image/png": "[encoded data removed]",
      "text/plain": [
       "<Figure size 720x432 with 1 Axes>"
      ]
     },
     "metadata": {
      "needs_background": "light"
     },
     "output_type": "display_data"
    }
   ],
   "source": [
    "# Attrition with respect to average montly hours\n",
    "\n",
    "ax = sns.boxplot(x='turnover', y='average_montly_hours', data=df, palette='rainbow')\n",
    "ax.set_xticklabels(labels=['No', 'Yes'])\n",
    "\n",
    "plt.title('Attrition with respect to average montly hours')\n",
    "plt.xlabel('Turnover')\n",
    "plt.ylabel('Average montly hours')\n",
    "plt.show()"
   ]
  },
  {
   "cell_type": "markdown",
   "id": "c443955e",
   "metadata": {},
   "source": [
    "*** Among all the continuous variables, only 'satisfaction_level' has a large variance between turnover values. There is a strong correlation between satisfaction_level and turnover. ***"
   ]
  },
  {
   "cell_type": "markdown",
   "id": "7bdafc10",
   "metadata": {},
   "source": [
    "# Preparing data for ML model\n",
    "\n",
    "Following steps will be taken to make data ready:\n",
    "\n",
    "1. Encoding Categorical variables\n",
    "2. Split the data into train and test sets\n",
    "3. Feature Selection\n",
    "4. Feature Scaling (Normalization)"
   ]
  },
  {
   "cell_type": "markdown",
   "id": "d10ea4ad",
   "metadata": {},
   "source": [
    "## Encoding Categorical Variables for ML models\n",
    "\n",
    "Applying LABEL ENCODING for Ordinal variables, and ONE-HOT ENCODING for Nominal variables."
   ]
  },
  {
   "cell_type": "code",
   "execution_count": 41,
   "id": "b9d1f760",
   "metadata": {},
   "outputs": [
    {
     "data": {
      "text/html": [
       "<div>\n",
       "<style scoped>\n",
       "    .dataframe tbody tr th:only-of-type {\n",
       "        vertical-align: middle;\n",
       "    }\n",
       "\n",
       "    .dataframe tbody tr th {\n",
       "        vertical-align: top;\n",
       "    }\n",
       "\n",
       "    .dataframe thead th {\n",
       "        text-align: right;\n",
       "    }\n",
       "</style>\n",
       "<table border=\"1\" class=\"dataframe\">\n",
       "  <thead>\n",
       "    <tr style=\"text-align: right;\">\n",
       "      <th></th>\n",
       "      <th>RandD</th>\n",
       "      <th>accounting</th>\n",
       "      <th>hr</th>\n",
       "      <th>management</th>\n",
       "      <th>marketing</th>\n",
       "      <th>product_mng</th>\n",
       "      <th>sales</th>\n",
       "      <th>support</th>\n",
       "      <th>technical</th>\n",
       "    </tr>\n",
       "  </thead>\n",
       "  <tbody>\n",
       "    <tr>\n",
       "      <th>0</th>\n",
       "      <td>0</td>\n",
       "      <td>0</td>\n",
       "      <td>0</td>\n",
       "      <td>0</td>\n",
       "      <td>0</td>\n",
       "      <td>0</td>\n",
       "      <td>1</td>\n",
       "      <td>0</td>\n",
       "      <td>0</td>\n",
       "    </tr>\n",
       "    <tr>\n",
       "      <th>1</th>\n",
       "      <td>0</td>\n",
       "      <td>0</td>\n",
       "      <td>0</td>\n",
       "      <td>0</td>\n",
       "      <td>0</td>\n",
       "      <td>0</td>\n",
       "      <td>1</td>\n",
       "      <td>0</td>\n",
       "      <td>0</td>\n",
       "    </tr>\n",
       "    <tr>\n",
       "      <th>2</th>\n",
       "      <td>0</td>\n",
       "      <td>0</td>\n",
       "      <td>0</td>\n",
       "      <td>0</td>\n",
       "      <td>0</td>\n",
       "      <td>0</td>\n",
       "      <td>1</td>\n",
       "      <td>0</td>\n",
       "      <td>0</td>\n",
       "    </tr>\n",
       "    <tr>\n",
       "      <th>3</th>\n",
       "      <td>0</td>\n",
       "      <td>0</td>\n",
       "      <td>0</td>\n",
       "      <td>0</td>\n",
       "      <td>0</td>\n",
       "      <td>0</td>\n",
       "      <td>1</td>\n",
       "      <td>0</td>\n",
       "      <td>0</td>\n",
       "    </tr>\n",
       "    <tr>\n",
       "      <th>4</th>\n",
       "      <td>0</td>\n",
       "      <td>0</td>\n",
       "      <td>0</td>\n",
       "      <td>0</td>\n",
       "      <td>0</td>\n",
       "      <td>0</td>\n",
       "      <td>1</td>\n",
       "      <td>0</td>\n",
       "      <td>0</td>\n",
       "    </tr>\n",
       "  </tbody>\n",
       "</table>\n",
       "</div>"
      ],
      "text/plain": [
       "   RandD  accounting  hr  management  marketing  product_mng  sales  support  \\\n",
       "0      0           0   0           0          0            0      1        0   \n",
       "1      0           0   0           0          0            0      1        0   \n",
       "2      0           0   0           0          0            0      1        0   \n",
       "3      0           0   0           0          0            0      1        0   \n",
       "4      0           0   0           0          0            0      1        0   \n",
       "\n",
       "   technical  \n",
       "0          0  \n",
       "1          0  \n",
       "2          0  \n",
       "3          0  \n",
       "4          0  "
      ]
     },
     "execution_count": 41,
     "metadata": {},
     "output_type": "execute_result"
    }
   ],
   "source": [
    "## One-Hot Encoding: on 'dept' feature\n",
    "\n",
    "dept = df['dept']\n",
    "dept = pd.get_dummies(dept, drop_first= True)\n",
    "dept.head()"
   ]
  },
  {
   "cell_type": "code",
   "execution_count": 42,
   "id": "e87dc55c",
   "metadata": {},
   "outputs": [
    {
     "data": {
      "text/plain": [
       "array([0, 1, 2], dtype=int64)"
      ]
     },
     "execution_count": 42,
     "metadata": {},
     "output_type": "execute_result"
    }
   ],
   "source": [
    "## Label Encoding: on 'salary' feature\n",
    "\n",
    "df.replace({\"low\": 0, \"medium\": 1, \"high\": 2}, inplace = True)\n",
    "df['salary'].unique()"
   ]
  },
  {
   "cell_type": "code",
   "execution_count": 43,
   "id": "4fdd5bad",
   "metadata": {},
   "outputs": [
    {
     "data": {
      "text/html": [
       "<div>\n",
       "<style scoped>\n",
       "    .dataframe tbody tr th:only-of-type {\n",
       "        vertical-align: middle;\n",
       "    }\n",
       "\n",
       "    .dataframe tbody tr th {\n",
       "        vertical-align: top;\n",
       "    }\n",
       "\n",
       "    .dataframe thead th {\n",
       "        text-align: right;\n",
       "    }\n",
       "</style>\n",
       "<table border=\"1\" class=\"dataframe\">\n",
       "  <thead>\n",
       "    <tr style=\"text-align: right;\">\n",
       "      <th></th>\n",
       "      <th>EmployeeID</th>\n",
       "      <th>satisfaction_level</th>\n",
       "      <th>last_evaluation</th>\n",
       "      <th>number_project</th>\n",
       "      <th>average_montly_hours</th>\n",
       "      <th>time_spend_company</th>\n",
       "      <th>Work_accident</th>\n",
       "      <th>turnover</th>\n",
       "      <th>promotion_last_5years</th>\n",
       "      <th>dept</th>\n",
       "      <th>salary</th>\n",
       "      <th>satisfaction_range</th>\n",
       "      <th>RandD</th>\n",
       "      <th>accounting</th>\n",
       "      <th>hr</th>\n",
       "      <th>management</th>\n",
       "      <th>marketing</th>\n",
       "      <th>product_mng</th>\n",
       "      <th>sales</th>\n",
       "      <th>support</th>\n",
       "      <th>technical</th>\n",
       "    </tr>\n",
       "  </thead>\n",
       "  <tbody>\n",
       "    <tr>\n",
       "      <th>0</th>\n",
       "      <td>1</td>\n",
       "      <td>0.38</td>\n",
       "      <td>0.53</td>\n",
       "      <td>2</td>\n",
       "      <td>157</td>\n",
       "      <td>3</td>\n",
       "      <td>0</td>\n",
       "      <td>1</td>\n",
       "      <td>0</td>\n",
       "      <td>sales</td>\n",
       "      <td>0</td>\n",
       "      <td>Medium</td>\n",
       "      <td>0</td>\n",
       "      <td>0</td>\n",
       "      <td>0</td>\n",
       "      <td>0</td>\n",
       "      <td>0</td>\n",
       "      <td>0</td>\n",
       "      <td>1</td>\n",
       "      <td>0</td>\n",
       "      <td>0</td>\n",
       "    </tr>\n",
       "    <tr>\n",
       "      <th>1</th>\n",
       "      <td>2</td>\n",
       "      <td>0.80</td>\n",
       "      <td>0.86</td>\n",
       "      <td>5</td>\n",
       "      <td>262</td>\n",
       "      <td>6</td>\n",
       "      <td>0</td>\n",
       "      <td>1</td>\n",
       "      <td>0</td>\n",
       "      <td>sales</td>\n",
       "      <td>1</td>\n",
       "      <td>High</td>\n",
       "      <td>0</td>\n",
       "      <td>0</td>\n",
       "      <td>0</td>\n",
       "      <td>0</td>\n",
       "      <td>0</td>\n",
       "      <td>0</td>\n",
       "      <td>1</td>\n",
       "      <td>0</td>\n",
       "      <td>0</td>\n",
       "    </tr>\n",
       "    <tr>\n",
       "      <th>2</th>\n",
       "      <td>3</td>\n",
       "      <td>0.11</td>\n",
       "      <td>0.88</td>\n",
       "      <td>7</td>\n",
       "      <td>272</td>\n",
       "      <td>4</td>\n",
       "      <td>0</td>\n",
       "      <td>1</td>\n",
       "      <td>0</td>\n",
       "      <td>sales</td>\n",
       "      <td>1</td>\n",
       "      <td>Low</td>\n",
       "      <td>0</td>\n",
       "      <td>0</td>\n",
       "      <td>0</td>\n",
       "      <td>0</td>\n",
       "      <td>0</td>\n",
       "      <td>0</td>\n",
       "      <td>1</td>\n",
       "      <td>0</td>\n",
       "      <td>0</td>\n",
       "    </tr>\n",
       "    <tr>\n",
       "      <th>3</th>\n",
       "      <td>4</td>\n",
       "      <td>0.72</td>\n",
       "      <td>0.87</td>\n",
       "      <td>5</td>\n",
       "      <td>223</td>\n",
       "      <td>5</td>\n",
       "      <td>0</td>\n",
       "      <td>1</td>\n",
       "      <td>0</td>\n",
       "      <td>sales</td>\n",
       "      <td>0</td>\n",
       "      <td>High</td>\n",
       "      <td>0</td>\n",
       "      <td>0</td>\n",
       "      <td>0</td>\n",
       "      <td>0</td>\n",
       "      <td>0</td>\n",
       "      <td>0</td>\n",
       "      <td>1</td>\n",
       "      <td>0</td>\n",
       "      <td>0</td>\n",
       "    </tr>\n",
       "    <tr>\n",
       "      <th>4</th>\n",
       "      <td>5</td>\n",
       "      <td>0.37</td>\n",
       "      <td>0.52</td>\n",
       "      <td>2</td>\n",
       "      <td>159</td>\n",
       "      <td>3</td>\n",
       "      <td>0</td>\n",
       "      <td>1</td>\n",
       "      <td>0</td>\n",
       "      <td>sales</td>\n",
       "      <td>0</td>\n",
       "      <td>Medium</td>\n",
       "      <td>0</td>\n",
       "      <td>0</td>\n",
       "      <td>0</td>\n",
       "      <td>0</td>\n",
       "      <td>0</td>\n",
       "      <td>0</td>\n",
       "      <td>1</td>\n",
       "      <td>0</td>\n",
       "      <td>0</td>\n",
       "    </tr>\n",
       "  </tbody>\n",
       "</table>\n",
       "</div>"
      ],
      "text/plain": [
       "   EmployeeID  satisfaction_level  last_evaluation  number_project  \\\n",
       "0           1                0.38             0.53               2   \n",
       "1           2                0.80             0.86               5   \n",
       "2           3                0.11             0.88               7   \n",
       "3           4                0.72             0.87               5   \n",
       "4           5                0.37             0.52               2   \n",
       "\n",
       "   average_montly_hours  time_spend_company  Work_accident  turnover  \\\n",
       "0                   157                   3              0         1   \n",
       "1                   262                   6              0         1   \n",
       "2                   272                   4              0         1   \n",
       "3                   223                   5              0         1   \n",
       "4                   159                   3              0         1   \n",
       "\n",
       "   promotion_last_5years   dept  salary satisfaction_range  RandD  accounting  \\\n",
       "0                      0  sales       0             Medium      0           0   \n",
       "1                      0  sales       1               High      0           0   \n",
       "2                      0  sales       1                Low      0           0   \n",
       "3                      0  sales       0               High      0           0   \n",
       "4                      0  sales       0             Medium      0           0   \n",
       "\n",
       "   hr  management  marketing  product_mng  sales  support  technical  \n",
       "0   0           0          0            0      1        0          0  \n",
       "1   0           0          0            0      1        0          0  \n",
       "2   0           0          0            0      1        0          0  \n",
       "3   0           0          0            0      1        0          0  \n",
       "4   0           0          0            0      1        0          0  "
      ]
     },
     "execution_count": 43,
     "metadata": {},
     "output_type": "execute_result"
    }
   ],
   "source": [
    "# Concatenate dataframe to include encoded columns --> df + dept\n",
    "\n",
    "df = pd.concat([df, dept], axis = 1)\n",
    "df.head()"
   ]
  },
  {
   "cell_type": "code",
   "execution_count": 44,
   "id": "ba57a353",
   "metadata": {},
   "outputs": [
    {
     "data": {
      "text/html": [
       "<div>\n",
       "<style scoped>\n",
       "    .dataframe tbody tr th:only-of-type {\n",
       "        vertical-align: middle;\n",
       "    }\n",
       "\n",
       "    .dataframe tbody tr th {\n",
       "        vertical-align: top;\n",
       "    }\n",
       "\n",
       "    .dataframe thead th {\n",
       "        text-align: right;\n",
       "    }\n",
       "</style>\n",
       "<table border=\"1\" class=\"dataframe\">\n",
       "  <thead>\n",
       "    <tr style=\"text-align: right;\">\n",
       "      <th></th>\n",
       "      <th>EmployeeID</th>\n",
       "      <th>satisfaction_level</th>\n",
       "      <th>last_evaluation</th>\n",
       "      <th>number_project</th>\n",
       "      <th>average_montly_hours</th>\n",
       "      <th>time_spend_company</th>\n",
       "      <th>Work_accident</th>\n",
       "      <th>turnover</th>\n",
       "      <th>promotion_last_5years</th>\n",
       "      <th>salary</th>\n",
       "      <th>RandD</th>\n",
       "      <th>accounting</th>\n",
       "      <th>hr</th>\n",
       "      <th>management</th>\n",
       "      <th>marketing</th>\n",
       "      <th>product_mng</th>\n",
       "      <th>sales</th>\n",
       "      <th>support</th>\n",
       "      <th>technical</th>\n",
       "    </tr>\n",
       "  </thead>\n",
       "  <tbody>\n",
       "    <tr>\n",
       "      <th>0</th>\n",
       "      <td>1</td>\n",
       "      <td>0.38</td>\n",
       "      <td>0.53</td>\n",
       "      <td>2</td>\n",
       "      <td>157</td>\n",
       "      <td>3</td>\n",
       "      <td>0</td>\n",
       "      <td>1</td>\n",
       "      <td>0</td>\n",
       "      <td>0</td>\n",
       "      <td>0</td>\n",
       "      <td>0</td>\n",
       "      <td>0</td>\n",
       "      <td>0</td>\n",
       "      <td>0</td>\n",
       "      <td>0</td>\n",
       "      <td>1</td>\n",
       "      <td>0</td>\n",
       "      <td>0</td>\n",
       "    </tr>\n",
       "    <tr>\n",
       "      <th>1</th>\n",
       "      <td>2</td>\n",
       "      <td>0.80</td>\n",
       "      <td>0.86</td>\n",
       "      <td>5</td>\n",
       "      <td>262</td>\n",
       "      <td>6</td>\n",
       "      <td>0</td>\n",
       "      <td>1</td>\n",
       "      <td>0</td>\n",
       "      <td>1</td>\n",
       "      <td>0</td>\n",
       "      <td>0</td>\n",
       "      <td>0</td>\n",
       "      <td>0</td>\n",
       "      <td>0</td>\n",
       "      <td>0</td>\n",
       "      <td>1</td>\n",
       "      <td>0</td>\n",
       "      <td>0</td>\n",
       "    </tr>\n",
       "    <tr>\n",
       "      <th>2</th>\n",
       "      <td>3</td>\n",
       "      <td>0.11</td>\n",
       "      <td>0.88</td>\n",
       "      <td>7</td>\n",
       "      <td>272</td>\n",
       "      <td>4</td>\n",
       "      <td>0</td>\n",
       "      <td>1</td>\n",
       "      <td>0</td>\n",
       "      <td>1</td>\n",
       "      <td>0</td>\n",
       "      <td>0</td>\n",
       "      <td>0</td>\n",
       "      <td>0</td>\n",
       "      <td>0</td>\n",
       "      <td>0</td>\n",
       "      <td>1</td>\n",
       "      <td>0</td>\n",
       "      <td>0</td>\n",
       "    </tr>\n",
       "    <tr>\n",
       "      <th>3</th>\n",
       "      <td>4</td>\n",
       "      <td>0.72</td>\n",
       "      <td>0.87</td>\n",
       "      <td>5</td>\n",
       "      <td>223</td>\n",
       "      <td>5</td>\n",
       "      <td>0</td>\n",
       "      <td>1</td>\n",
       "      <td>0</td>\n",
       "      <td>0</td>\n",
       "      <td>0</td>\n",
       "      <td>0</td>\n",
       "      <td>0</td>\n",
       "      <td>0</td>\n",
       "      <td>0</td>\n",
       "      <td>0</td>\n",
       "      <td>1</td>\n",
       "      <td>0</td>\n",
       "      <td>0</td>\n",
       "    </tr>\n",
       "    <tr>\n",
       "      <th>4</th>\n",
       "      <td>5</td>\n",
       "      <td>0.37</td>\n",
       "      <td>0.52</td>\n",
       "      <td>2</td>\n",
       "      <td>159</td>\n",
       "      <td>3</td>\n",
       "      <td>0</td>\n",
       "      <td>1</td>\n",
       "      <td>0</td>\n",
       "      <td>0</td>\n",
       "      <td>0</td>\n",
       "      <td>0</td>\n",
       "      <td>0</td>\n",
       "      <td>0</td>\n",
       "      <td>0</td>\n",
       "      <td>0</td>\n",
       "      <td>1</td>\n",
       "      <td>0</td>\n",
       "      <td>0</td>\n",
       "    </tr>\n",
       "  </tbody>\n",
       "</table>\n",
       "</div>"
      ],
      "text/plain": [
       "   EmployeeID  satisfaction_level  last_evaluation  number_project  \\\n",
       "0           1                0.38             0.53               2   \n",
       "1           2                0.80             0.86               5   \n",
       "2           3                0.11             0.88               7   \n",
       "3           4                0.72             0.87               5   \n",
       "4           5                0.37             0.52               2   \n",
       "\n",
       "   average_montly_hours  time_spend_company  Work_accident  turnover  \\\n",
       "0                   157                   3              0         1   \n",
       "1                   262                   6              0         1   \n",
       "2                   272                   4              0         1   \n",
       "3                   223                   5              0         1   \n",
       "4                   159                   3              0         1   \n",
       "\n",
       "   promotion_last_5years  salary  RandD  accounting  hr  management  \\\n",
       "0                      0       0      0           0   0           0   \n",
       "1                      0       1      0           0   0           0   \n",
       "2                      0       1      0           0   0           0   \n",
       "3                      0       0      0           0   0           0   \n",
       "4                      0       0      0           0   0           0   \n",
       "\n",
       "   marketing  product_mng  sales  support  technical  \n",
       "0          0            0      1        0          0  \n",
       "1          0            0      1        0          0  \n",
       "2          0            0      1        0          0  \n",
       "3          0            0      1        0          0  \n",
       "4          0            0      1        0          0  "
      ]
     },
     "execution_count": 44,
     "metadata": {},
     "output_type": "execute_result"
    }
   ],
   "source": [
    "# Drop all unnecessary columns\n",
    "\n",
    "df.drop([\"dept\",\"satisfaction_range\"], axis = 1, inplace = True)\n",
    "df.head()"
   ]
  },
  {
   "cell_type": "code",
   "execution_count": 45,
   "id": "fd20697f",
   "metadata": {},
   "outputs": [
    {
     "data": {
      "text/plain": [
       "(12000, 19)"
      ]
     },
     "execution_count": 45,
     "metadata": {},
     "output_type": "execute_result"
    }
   ],
   "source": [
    "df.shape"
   ]
  },
  {
   "cell_type": "markdown",
   "id": "d338ff8f",
   "metadata": {},
   "source": [
    "*** After feature engineering, the number of columns have increased from 10 to 18 ***\n",
    "\n",
    "*** The number of rows remains the same. ***"
   ]
  },
  {
   "cell_type": "markdown",
   "id": "763ddbcd",
   "metadata": {},
   "source": [
    "## Train/ Test Split "
   ]
  },
  {
   "cell_type": "code",
   "execution_count": 46,
   "id": "9505cbbd",
   "metadata": {},
   "outputs": [
    {
     "data": {
      "text/html": [
       "<div>\n",
       "<style scoped>\n",
       "    .dataframe tbody tr th:only-of-type {\n",
       "        vertical-align: middle;\n",
       "    }\n",
       "\n",
       "    .dataframe tbody tr th {\n",
       "        vertical-align: top;\n",
       "    }\n",
       "\n",
       "    .dataframe thead th {\n",
       "        text-align: right;\n",
       "    }\n",
       "</style>\n",
       "<table border=\"1\" class=\"dataframe\">\n",
       "  <thead>\n",
       "    <tr style=\"text-align: right;\">\n",
       "      <th></th>\n",
       "      <th>EmployeeID</th>\n",
       "      <th>satisfaction_level</th>\n",
       "      <th>last_evaluation</th>\n",
       "      <th>number_project</th>\n",
       "      <th>average_montly_hours</th>\n",
       "      <th>time_spend_company</th>\n",
       "      <th>Work_accident</th>\n",
       "      <th>promotion_last_5years</th>\n",
       "      <th>salary</th>\n",
       "      <th>RandD</th>\n",
       "      <th>accounting</th>\n",
       "      <th>hr</th>\n",
       "      <th>management</th>\n",
       "      <th>marketing</th>\n",
       "      <th>product_mng</th>\n",
       "      <th>sales</th>\n",
       "      <th>support</th>\n",
       "      <th>technical</th>\n",
       "    </tr>\n",
       "  </thead>\n",
       "  <tbody>\n",
       "    <tr>\n",
       "      <th>4954</th>\n",
       "      <td>4955</td>\n",
       "      <td>0.80</td>\n",
       "      <td>0.51</td>\n",
       "      <td>5</td>\n",
       "      <td>196</td>\n",
       "      <td>3</td>\n",
       "      <td>0</td>\n",
       "      <td>0</td>\n",
       "      <td>0</td>\n",
       "      <td>0</td>\n",
       "      <td>0</td>\n",
       "      <td>0</td>\n",
       "      <td>0</td>\n",
       "      <td>0</td>\n",
       "      <td>0</td>\n",
       "      <td>0</td>\n",
       "      <td>0</td>\n",
       "      <td>0</td>\n",
       "    </tr>\n",
       "    <tr>\n",
       "      <th>11999</th>\n",
       "      <td>12000</td>\n",
       "      <td>0.50</td>\n",
       "      <td>0.73</td>\n",
       "      <td>4</td>\n",
       "      <td>180</td>\n",
       "      <td>3</td>\n",
       "      <td>0</td>\n",
       "      <td>0</td>\n",
       "      <td>0</td>\n",
       "      <td>0</td>\n",
       "      <td>0</td>\n",
       "      <td>0</td>\n",
       "      <td>0</td>\n",
       "      <td>0</td>\n",
       "      <td>0</td>\n",
       "      <td>0</td>\n",
       "      <td>0</td>\n",
       "      <td>0</td>\n",
       "    </tr>\n",
       "    <tr>\n",
       "      <th>11041</th>\n",
       "      <td>11042</td>\n",
       "      <td>0.48</td>\n",
       "      <td>0.49</td>\n",
       "      <td>3</td>\n",
       "      <td>268</td>\n",
       "      <td>3</td>\n",
       "      <td>0</td>\n",
       "      <td>0</td>\n",
       "      <td>0</td>\n",
       "      <td>0</td>\n",
       "      <td>0</td>\n",
       "      <td>1</td>\n",
       "      <td>0</td>\n",
       "      <td>0</td>\n",
       "      <td>0</td>\n",
       "      <td>0</td>\n",
       "      <td>0</td>\n",
       "      <td>0</td>\n",
       "    </tr>\n",
       "    <tr>\n",
       "      <th>7532</th>\n",
       "      <td>7533</td>\n",
       "      <td>0.62</td>\n",
       "      <td>0.56</td>\n",
       "      <td>4</td>\n",
       "      <td>267</td>\n",
       "      <td>4</td>\n",
       "      <td>0</td>\n",
       "      <td>0</td>\n",
       "      <td>1</td>\n",
       "      <td>0</td>\n",
       "      <td>0</td>\n",
       "      <td>0</td>\n",
       "      <td>0</td>\n",
       "      <td>0</td>\n",
       "      <td>0</td>\n",
       "      <td>0</td>\n",
       "      <td>1</td>\n",
       "      <td>0</td>\n",
       "    </tr>\n",
       "    <tr>\n",
       "      <th>11966</th>\n",
       "      <td>11967</td>\n",
       "      <td>0.92</td>\n",
       "      <td>0.65</td>\n",
       "      <td>3</td>\n",
       "      <td>176</td>\n",
       "      <td>3</td>\n",
       "      <td>0</td>\n",
       "      <td>0</td>\n",
       "      <td>0</td>\n",
       "      <td>0</td>\n",
       "      <td>0</td>\n",
       "      <td>0</td>\n",
       "      <td>0</td>\n",
       "      <td>0</td>\n",
       "      <td>0</td>\n",
       "      <td>0</td>\n",
       "      <td>0</td>\n",
       "      <td>0</td>\n",
       "    </tr>\n",
       "  </tbody>\n",
       "</table>\n",
       "</div>"
      ],
      "text/plain": [
       "       EmployeeID  satisfaction_level  last_evaluation  number_project  \\\n",
       "4954         4955                0.80             0.51               5   \n",
       "11999       12000                0.50             0.73               4   \n",
       "11041       11042                0.48             0.49               3   \n",
       "7532         7533                0.62             0.56               4   \n",
       "11966       11967                0.92             0.65               3   \n",
       "\n",
       "       average_montly_hours  time_spend_company  Work_accident  \\\n",
       "4954                    196                   3              0   \n",
       "11999                   180                   3              0   \n",
       "11041                   268                   3              0   \n",
       "7532                    267                   4              0   \n",
       "11966                   176                   3              0   \n",
       "\n",
       "       promotion_last_5years  salary  RandD  accounting  hr  management  \\\n",
       "4954                       0       0      0           0   0           0   \n",
       "11999                      0       0      0           0   0           0   \n",
       "11041                      0       0      0           0   1           0   \n",
       "7532                       0       1      0           0   0           0   \n",
       "11966                      0       0      0           0   0           0   \n",
       "\n",
       "       marketing  product_mng  sales  support  technical  \n",
       "4954           0            0      0        0          0  \n",
       "11999          0            0      0        0          0  \n",
       "11041          0            0      0        0          0  \n",
       "7532           0            0      0        1          0  \n",
       "11966          0            0      0        0          0  "
      ]
     },
     "execution_count": 46,
     "metadata": {},
     "output_type": "execute_result"
    }
   ],
   "source": [
    "## PREPARE THE DATA FOR ML MODEL\n",
    "# 1. Split the data into train and test\n",
    "# 2. separate the independent and dependent features\n",
    "# 3. shuffle the dataset\n",
    "\n",
    "x_train, x_test = train_test_split(df, test_size=0.2, random_state=0)\n",
    "\n",
    "# DEPENDENT features\n",
    "# get the training label\n",
    "y_train = x_train[\"turnover\"]\n",
    "\n",
    "# get the test label\n",
    "y_test = x_test[\"turnover\"]\n",
    "\n",
    "\n",
    "# INDEPENDENT features\n",
    "# remove the label from train and test data\n",
    "x_train.pop(\"turnover\")\n",
    "x_test.pop(\"turnover\")\n",
    "\n",
    "#display top 5\n",
    "x_test.head()\n",
    "#you may have noticed that the index, the left most column is already shuffled"
   ]
  },
  {
   "cell_type": "code",
   "execution_count": 47,
   "id": "42570456",
   "metadata": {},
   "outputs": [
    {
     "data": {
      "text/plain": [
       "4954     0\n",
       "11999    0\n",
       "11041    0\n",
       "7532     0\n",
       "11966    0\n",
       "Name: turnover, dtype: int64"
      ]
     },
     "execution_count": 47,
     "metadata": {},
     "output_type": "execute_result"
    }
   ],
   "source": [
    "y_test.head()"
   ]
  },
  {
   "cell_type": "markdown",
   "id": "d2093ca4",
   "metadata": {},
   "source": [
    "## Feature Selection\n",
    "\n",
    "Following methods are used for feature selection:\n",
    "\n",
    "1. SelectKBest (Chi-square) - For CATEGORICAL predictors \n",
    "2. SelectKBest (ANOVA) - For NUMERICAL predictors \n",
    "3. Heatmap - Multicollinearity"
   ]
  },
  {
   "cell_type": "markdown",
   "id": "526a78ee",
   "metadata": {},
   "source": [
    "### Univariate Feature selection"
   ]
  },
  {
   "cell_type": "code",
   "execution_count": 48,
   "id": "62075340",
   "metadata": {},
   "outputs": [
    {
     "name": "stdout",
     "output_type": "stream",
     "text": [
      "                    Specs         Score\n",
      "0              EmployeeID  8.098970e+06\n",
      "4    average_montly_hours  6.034258e+02\n",
      "5      time_spend_company  1.507195e+02\n",
      "6           Work_accident  1.225708e+02\n",
      "1      satisfaction_level  1.097588e+02\n",
      "8                  salary  9.599003e+01\n",
      "7   promotion_last_5years  1.885816e+01\n",
      "9                   RandD  8.785666e+00\n",
      "3          number_project  3.700692e+00\n",
      "12             management  3.600161e+00\n",
      "11                     hr  3.076661e+00\n",
      "15                  sales  1.058090e+00\n",
      "17              technical  4.216269e-01\n",
      "13              marketing  9.487204e-02\n",
      "2         last_evaluation  8.661264e-02\n",
      "14            product_mng  7.276345e-02\n",
      "16                support  2.870100e-02\n",
      "10             accounting  5.033930e-03\n"
     ]
    }
   ],
   "source": [
    "# apply SelectKBest class to get feature importance values\n",
    "\n",
    "# Using 'Chi-square test' for CATEGORICAL features\n",
    "\n",
    "fs_chi = SelectKBest(score_func=chi2, k='all')\n",
    "fit = fs_chi.fit(x_train,y_train)\n",
    "dfscores = pd.DataFrame(fit.scores_)\n",
    "dfcolumns = pd.DataFrame(x_train.columns)\n",
    "\n",
    "#concat two dataframes for better visualization \n",
    "featureScores = pd.concat([dfcolumns,dfscores],axis=1)\n",
    "featureScores.columns = ['Specs','Score']  #naming the dataframe columns\n",
    "\n",
    "cols = len(x_train.columns)\n",
    "print(featureScores.nlargest(cols,'Score')) # print all columns in descending order of score\n"
   ]
  },
  {
   "cell_type": "markdown",
   "id": "754fd16e",
   "metadata": {},
   "source": [
    "*** Since Chi-square is used for selecting CATEGORICAL features, we'll ignore the NUMERICAL features from the above list. ***\n",
    "\n",
    "*** Following CATEGORICAL features have good correlation with the dependent variable 'turnover' ***\n",
    "\n",
    "1. Work_accident\n",
    "2. salary\n"
   ]
  },
  {
   "cell_type": "code",
   "execution_count": 49,
   "id": "5f22c0dc",
   "metadata": {},
   "outputs": [
    {
     "name": "stdout",
     "output_type": "stream",
     "text": [
      "                    Specs        Score\n",
      "0              EmployeeID  6997.326549\n",
      "1      satisfaction_level  1357.776516\n",
      "5      time_spend_company   293.220228\n",
      "6           Work_accident   146.991314\n",
      "8                  salary   145.848530\n",
      "4    average_montly_hours    51.232356\n",
      "7   promotion_last_5years    19.222374\n",
      "3          number_project    10.328191\n",
      "9                   RandD     9.333941\n",
      "12             management     3.734636\n",
      "11                     hr     3.243634\n",
      "2         last_evaluation     2.196806\n",
      "15                  sales     1.445641\n",
      "17              technical     0.518912\n",
      "13              marketing     0.100529\n",
      "14            product_mng     0.077085\n",
      "16                support     0.033955\n",
      "10             accounting     0.005313\n"
     ]
    }
   ],
   "source": [
    "\n",
    "# Using ANOVA for NUMERICAL features\n",
    "\n",
    "# configure to select all features\n",
    "fs_an = SelectKBest(score_func=f_classif, k='all')\n",
    "\n",
    "# learn relationship from training data\n",
    "fit_an = fs_an.fit(x_train, y_train)\n",
    "dfscores_an = pd.DataFrame(fit_an.scores_)\n",
    "#dfcolumns = pd.DataFrame(x_train.columns)\n",
    "\n",
    "# concat two dataframes for better visualization \n",
    "featureScores_an = pd.concat([dfcolumns,dfscores_an],axis=1)\n",
    "featureScores_an.columns = ['Specs','Score']  #naming the dataframe columns\n",
    "\n",
    "print(featureScores_an.nlargest(cols,'Score')) # print all columns in descending order of score\n",
    "\n",
    "## If we want to transform the dataset, so that only the best features are selected:\n",
    "# # transform train input data\n",
    "# X_train_fs = fs.transform(X_train)\n",
    "# # transform test input data\n",
    "# X_test_fs = fs.transform(X_test)\n"
   ]
  },
  {
   "cell_type": "markdown",
   "id": "5cec16e3",
   "metadata": {},
   "source": [
    "*** Since ANOVA is used for selecting NUMERICAL features, we'll ignore the CATEGORICAL features from the above list. ***\n",
    "\n",
    "*** Following NUMERICAL features have good correlation with the dependent variable 'turnover' ***\n",
    "\n",
    "1. satisfaction_level\n",
    "2. time_spend_company\n",
    "3. average_montly_hours\n"
   ]
  },
  {
   "cell_type": "markdown",
   "id": "0d7a2997",
   "metadata": {},
   "source": [
    "### Check multicollinearity"
   ]
  },
  {
   "cell_type": "code",
   "execution_count": 50,
   "id": "04ded33d",
   "metadata": {},
   "outputs": [
    {
     "data": {
      "image/png": "[encoded data removed]",
      "text/plain": [
       "<Figure size 1152x432 with 2 Axes>"
      ]
     },
     "metadata": {
      "needs_background": "light"
     },
     "output_type": "display_data"
    }
   ],
   "source": [
    "# Create a triangular heat map for independent features\n",
    "\n",
    "plt.figure(figsize=(16, 6))\n",
    "# define the mask to set the values in the upper triangle to True\n",
    "mask = np.triu(np.ones_like(x_train.corr(), dtype= bool))\n",
    "heatmap = sns.heatmap(x_train.corr(), mask=mask, vmin=-1, vmax=1, annot=True, cmap='BrBG')\n",
    "heatmap.set_title('Correlation Coefficient Of Predictors', fontdict={'fontsize':18}, pad=16);"
   ]
  },
  {
   "cell_type": "markdown",
   "id": "34ae45b6",
   "metadata": {},
   "source": [
    "*** No two features are highly correlated. Hence, there is no multicollinearity in our dataset. ***"
   ]
  },
  {
   "cell_type": "code",
   "execution_count": 51,
   "id": "066fc66c",
   "metadata": {},
   "outputs": [],
   "source": [
    "# Keeping only best features\n",
    "\n",
    "x_train_imp = x_train[['satisfaction_level', 'time_spend_company', 'average_montly_hours', 'number_project', 'Work_accident',\n",
    "                      'salary', 'promotion_last_5years']]\n",
    "\n",
    "x_test_imp = x_test[['satisfaction_level', 'time_spend_company', 'average_montly_hours', 'number_project', 'Work_accident',\n",
    "                      'salary', 'promotion_last_5years']]\n",
    "\n"
   ]
  },
  {
   "cell_type": "markdown",
   "id": "62ee9cd2",
   "metadata": {},
   "source": [
    "## Normalize train and test data\n",
    "\n",
    "We'll use the MinMax Scalar method from sklearn."
   ]
  },
  {
   "cell_type": "code",
   "execution_count": 52,
   "id": "4dba76ec",
   "metadata": {},
   "outputs": [
    {
     "name": "stdout",
     "output_type": "stream",
     "text": [
      "[[0.62637363 0.         0.28037383 ... 0.         0.5        0.        ]\n",
      " [0.63736264 0.5        0.38317757 ... 0.         0.         0.        ]\n",
      " [0.78021978 0.125      0.42523364 ... 1.         0.5        0.        ]\n",
      " ...\n",
      " [0.65934066 0.         0.76168224 ... 0.         0.5        0.        ]\n",
      " [0.75824176 0.125      0.65420561 ... 0.         1.         0.        ]\n",
      " [0.51648352 0.         0.5        ... 0.         0.         0.        ]]\n",
      "[[0.78021978 0.125      0.46728972 ... 0.         0.         0.        ]\n",
      " [0.45054945 0.125      0.39252336 ... 0.         0.         0.        ]\n",
      " [0.42857143 0.125      0.80373832 ... 0.         0.         0.        ]\n",
      " ...\n",
      " [0.59340659 0.125      0.3317757  ... 1.         0.5        0.        ]\n",
      " [0.73626374 0.25       0.65420561 ... 0.         0.5        0.        ]\n",
      " [0.74725275 0.125      0.6682243  ... 1.         0.         0.        ]]\n"
     ]
    }
   ],
   "source": [
    "# define min max scaler\n",
    "scaler = MinMaxScaler()\n",
    "\n",
    "# transform data\n",
    "X_train = scaler.fit_transform(x_train_imp)\n",
    "X_test = scaler.fit_transform(x_test_imp)\n",
    "\n",
    "print(X_train)\n",
    "print(X_test)\n"
   ]
  },
  {
   "cell_type": "markdown",
   "id": "55afd0f9",
   "metadata": {},
   "source": [
    "## Machine Learning Algorithms\n",
    "\n",
    "Following ML algorithms were tested:\n",
    "\n",
    "1. Logistic Regression\n",
    "2. Random Forest\n",
    "3. K-Nearest Neighbour\n",
    "4. Naive Bayes"
   ]
  },
  {
   "cell_type": "markdown",
   "id": "26ccf817",
   "metadata": {},
   "source": [
    "### Logistic Regression"
   ]
  },
  {
   "cell_type": "code",
   "execution_count": 53,
   "id": "281ed912",
   "metadata": {},
   "outputs": [
    {
     "name": "stdout",
     "output_type": "stream",
     "text": [
      "--------- Metrics --------------\n",
      "Training accuracy: 0.8292708333333333\n",
      "Test accuracy: 0.8366666666666667\n",
      "MAE: 0.16333333333333333\n",
      "MSE: 0.16333333333333333\n",
      "RMSE: 0.40414518843273806\n",
      "\n",
      "***** Confusion Matrix *****\n",
      "[[1943   81]\n",
      " [ 311   65]]\n"
     ]
    }
   ],
   "source": [
    "logreg_model = LogisticRegression()\n",
    "logreg_model.fit(X_train,y_train)\n",
    "\n",
    "y_pred_lr = logreg_model.predict(X_test)\n",
    "\n",
    "\n",
    "## Calculate metrics\n",
    "\n",
    "# training accuracy\n",
    "train_acc_lr = logreg_model.score(X_train, y_train)\n",
    "\n",
    "# test accuracy\n",
    "test_acc_lr = logreg_model.score(X_test, y_test)\n",
    "\n",
    "print('--------- Metrics --------------')\n",
    "print('Training accuracy:', train_acc_lr)\n",
    "print('Test accuracy:', test_acc_lr)\n",
    "\n",
    "print('MAE:', metrics.mean_absolute_error(y_test, y_pred_lr))\n",
    "print('MSE:', metrics.mean_squared_error(y_test, y_pred_lr))\n",
    "print('RMSE:', np.sqrt(metrics.mean_squared_error(y_test, y_pred_lr)))\n",
    "\n",
    "print('')\n",
    "print('***** Confusion Matrix *****')\n",
    "print(confusion_matrix(y_test,y_pred_lr))"
   ]
  },
  {
   "cell_type": "markdown",
   "id": "f66495de",
   "metadata": {},
   "source": [
    "### Random Forest"
   ]
  },
  {
   "cell_type": "code",
   "execution_count": 54,
   "id": "ba4a3cf8",
   "metadata": {},
   "outputs": [
    {
     "name": "stdout",
     "output_type": "stream",
     "text": [
      "--------- Metrics --------------\n",
      "Training accuracy: 0.999375\n",
      "Test accuracy: 0.9845833333333334\n",
      "MAE: 0.015416666666666667\n",
      "MSE: 0.015416666666666667\n",
      "RMSE: 0.1241638702145945\n",
      "\n",
      "***** Confusion Matrix *****\n",
      "[[2013   11]\n",
      " [  26  350]]\n"
     ]
    }
   ],
   "source": [
    "rf_model=RandomForestClassifier(n_estimators=100)\n",
    "rf_model.fit(X_train,y_train)\n",
    "\n",
    "y_pred_rf = rf_model.predict(X_test)\n",
    "\n",
    "\n",
    "## Calculate metrics ##\n",
    "\n",
    "# training accuracy\n",
    "train_acc_rf = rf_model.score(X_train, y_train)\n",
    "\n",
    "# test accuracy\n",
    "test_acc_rf = rf_model.score(X_test, y_test)\n",
    "\n",
    "print('--------- Metrics --------------')\n",
    "print('Training accuracy:', train_acc_rf)\n",
    "print('Test accuracy:', test_acc_rf)\n",
    "\n",
    "print('MAE:', metrics.mean_absolute_error(y_test, y_pred_rf))\n",
    "print('MSE:', metrics.mean_squared_error(y_test, y_pred_rf))\n",
    "print('RMSE:', np.sqrt(metrics.mean_squared_error(y_test, y_pred_rf)))\n",
    "\n",
    "print('')\n",
    "print('***** Confusion Matrix *****')\n",
    "print(confusion_matrix(y_test,y_pred_rf))"
   ]
  },
  {
   "cell_type": "markdown",
   "id": "01b8b0ef",
   "metadata": {},
   "source": [
    "### K-Nearest neighbour"
   ]
  },
  {
   "cell_type": "code",
   "execution_count": 55,
   "id": "c50036bf",
   "metadata": {},
   "outputs": [
    {
     "data": {
      "text/plain": [
       "Text(0.5, 1.0, 'Accuracy Scores for Values of k of k-Nearest-Neighbors')"
      ]
     },
     "execution_count": 55,
     "metadata": {},
     "output_type": "execute_result"
    },
    {
     "data": {
      "image/png": "[encoded data removed]",
      "text/plain": [
       "<Figure size 720x432 with 1 Axes>"
      ]
     },
     "metadata": {
      "needs_background": "light"
     },
     "output_type": "display_data"
    }
   ],
   "source": [
    "krange=list(range(1,25))\n",
    "score=[]\n",
    "\n",
    "for i in krange:\n",
    "    knn=KNeighborsClassifier(n_neighbors=i)\n",
    "    knn.fit(X_train,y_train)\n",
    "    y_pred_knn = knn.predict(X_test)\n",
    "    score.append(accuracy_score(y_test,y_pred_knn))\n",
    "    \n",
    "plt.plot(krange,score) \n",
    "\n",
    "plt.xlabel('Value of k for KNN')\n",
    "plt.ylabel('Accuracy Score')\n",
    "\n",
    "plt.title('Accuracy Scores for Values of k of k-Nearest-Neighbors')    \n",
    "    "
   ]
  },
  {
   "cell_type": "code",
   "execution_count": 56,
   "id": "147c1f6c",
   "metadata": {},
   "outputs": [
    {
     "name": "stdout",
     "output_type": "stream",
     "text": [
      "--------- Metrics --------------\n",
      "Training accuracy: 0.975625\n",
      "Test accuracy: 0.9745833333333334\n",
      "MAE: 0.025416666666666667\n",
      "MSE: 0.025416666666666667\n",
      "RMSE: 0.15942605391424158\n",
      "\n",
      "***** Confusion Matrix *****\n",
      "[[1998   26]\n",
      " [  35  341]]\n"
     ]
    }
   ],
   "source": [
    "knn_model = KNeighborsClassifier(n_neighbors=4)\n",
    "knn_model.fit(X_train,y_train)\n",
    "y_pred_knn = knn_model.predict(X_test)\n",
    "\n",
    "\n",
    "## Calculate metrics ##\n",
    "\n",
    "# training accuracy\n",
    "train_acc_knn = knn_model.score(X_train, y_train)\n",
    "\n",
    "# test accuracy\n",
    "test_acc_knn = knn_model.score(X_test, y_test)\n",
    "\n",
    "print('--------- Metrics --------------')\n",
    "print('Training accuracy:', train_acc_knn)\n",
    "print('Test accuracy:', test_acc_knn)\n",
    "\n",
    "print('MAE:', metrics.mean_absolute_error(y_test, y_pred_knn))\n",
    "print('MSE:', metrics.mean_squared_error(y_test, y_pred_knn))\n",
    "print('RMSE:', np.sqrt(metrics.mean_squared_error(y_test, y_pred_knn)))\n",
    "\n",
    "print('')\n",
    "print('***** Confusion Matrix *****')\n",
    "print(confusion_matrix(y_test,y_pred_knn))"
   ]
  },
  {
   "cell_type": "markdown",
   "id": "251c9420",
   "metadata": {},
   "source": [
    "### Naive Bayes"
   ]
  },
  {
   "cell_type": "code",
   "execution_count": 57,
   "id": "3ac57876",
   "metadata": {},
   "outputs": [
    {
     "name": "stdout",
     "output_type": "stream",
     "text": [
      "--------- Metrics --------------\n",
      "Training accuracy: 0.8455208333333334\n",
      "Test accuracy: 0.8479166666666667\n",
      "MAE: 0.15208333333333332\n",
      "MSE: 0.15208333333333332\n",
      "RMSE: 0.389978631893253\n",
      "\n",
      "***** Confusion Matrix *****\n",
      "[[1777  247]\n",
      " [ 118  258]]\n"
     ]
    }
   ],
   "source": [
    "GNB_model = GaussianNB()\n",
    "GNB_model.fit(X_train,y_train)\n",
    "y_pred_GNB = GNB_model.predict(X_test)\n",
    "\n",
    "## Calculate metrics ##\n",
    "\n",
    "# training accuracy\n",
    "train_acc_GNB = GNB_model.score(X_train, y_train)\n",
    "\n",
    "# test accuracy\n",
    "test_acc_GNB = GNB_model.score(X_test, y_test)\n",
    "\n",
    "print('--------- Metrics --------------')\n",
    "print('Training accuracy:', train_acc_GNB)\n",
    "print('Test accuracy:', test_acc_GNB)\n",
    "\n",
    "print('MAE:', metrics.mean_absolute_error(y_test, y_pred_GNB))\n",
    "print('MSE:', metrics.mean_squared_error(y_test, y_pred_GNB))\n",
    "print('RMSE:', np.sqrt(metrics.mean_squared_error(y_test, y_pred_GNB)))\n",
    "\n",
    "print('')\n",
    "print('***** Confusion Matrix *****')\n",
    "print(confusion_matrix(y_test,y_pred_GNB))"
   ]
  },
  {
   "cell_type": "markdown",
   "id": "90487ba6",
   "metadata": {},
   "source": [
    "## Summary of all the models"
   ]
  },
  {
   "cell_type": "code",
   "execution_count": 58,
   "id": "424fbd21",
   "metadata": {},
   "outputs": [
    {
     "data": {
      "text/html": [
       "<div>\n",
       "<style scoped>\n",
       "    .dataframe tbody tr th:only-of-type {\n",
       "        vertical-align: middle;\n",
       "    }\n",
       "\n",
       "    .dataframe tbody tr th {\n",
       "        vertical-align: top;\n",
       "    }\n",
       "\n",
       "    .dataframe thead th {\n",
       "        text-align: right;\n",
       "    }\n",
       "</style>\n",
       "<table border=\"1\" class=\"dataframe\">\n",
       "  <thead>\n",
       "    <tr style=\"text-align: right;\">\n",
       "      <th></th>\n",
       "      <th>Classification Model</th>\n",
       "      <th>Training Accuracy</th>\n",
       "      <th>Test Accuracy</th>\n",
       "    </tr>\n",
       "  </thead>\n",
       "  <tbody>\n",
       "    <tr>\n",
       "      <th>0</th>\n",
       "      <td>Random Forest</td>\n",
       "      <td>0.999375</td>\n",
       "      <td>0.984583</td>\n",
       "    </tr>\n",
       "    <tr>\n",
       "      <th>1</th>\n",
       "      <td>KNN</td>\n",
       "      <td>0.975625</td>\n",
       "      <td>0.974583</td>\n",
       "    </tr>\n",
       "    <tr>\n",
       "      <th>2</th>\n",
       "      <td>Gaussian Naive Bayes</td>\n",
       "      <td>0.845521</td>\n",
       "      <td>0.847917</td>\n",
       "    </tr>\n",
       "    <tr>\n",
       "      <th>3</th>\n",
       "      <td>Logistic Regression</td>\n",
       "      <td>0.829271</td>\n",
       "      <td>0.836667</td>\n",
       "    </tr>\n",
       "  </tbody>\n",
       "</table>\n",
       "</div>"
      ],
      "text/plain": [
       "   Classification Model  Training Accuracy  Test Accuracy\n",
       "0         Random Forest           0.999375       0.984583\n",
       "1                   KNN           0.975625       0.974583\n",
       "2  Gaussian Naive Bayes           0.845521       0.847917\n",
       "3   Logistic Regression           0.829271       0.836667"
      ]
     },
     "execution_count": 58,
     "metadata": {},
     "output_type": "execute_result"
    }
   ],
   "source": [
    "# List of all models and their accuracy scores\n",
    "models=[\"Logistic Regression\",\"Random Forest\",\"KNN\",\"Gaussian Naive Bayes\"]\n",
    "Accuracy_Train = [train_acc_lr,train_acc_rf,train_acc_knn,train_acc_GNB]\n",
    "\n",
    "Accuracy_Test = [test_acc_lr,test_acc_rf,test_acc_knn,test_acc_GNB]\n",
    "\n",
    "# display accuracy values in a dataframe\n",
    "score= pd.DataFrame({\"Classification Model\" :models,\"Training Accuracy\":Accuracy_Train,\n",
    "                     \"Test Accuracy\":Accuracy_Test})\n",
    "score.sort_values(by= \"Test Accuracy\",ascending=False).reset_index(drop=True)"
   ]
  },
  {
   "cell_type": "markdown",
   "id": "d383278f",
   "metadata": {},
   "source": [
    "*** The table lists all the models in decreasing order of test accuracy. ***\n",
    "\n",
    "*** Random Forest gives a very good accuracy (98%). So, we will use this model to predict employees who are likely to leave the company ***"
   ]
  },
  {
   "cell_type": "markdown",
   "id": "71cd12ea",
   "metadata": {},
   "source": [
    "### Using Random Forest to predict number of employees who are likely to leave "
   ]
  },
  {
   "cell_type": "code",
   "execution_count": 59,
   "id": "13769527",
   "metadata": {},
   "outputs": [
    {
     "name": "stdout",
     "output_type": "stream",
     "text": [
      "satisfaction_level       0.383357\n",
      "time_spend_company       0.192421\n",
      "average_montly_hours     0.211015\n",
      "number_project           0.188732\n",
      "Work_accident            0.009103\n",
      "salary                   0.013971\n",
      "promotion_last_5years    0.001401\n",
      "dtype: float64\n"
     ]
    }
   ],
   "source": [
    "# Get most important features\n",
    "\n",
    "# feature importance\n",
    "\n",
    "feat_imp_rf = pd.Series(rf_model.feature_importances_,index=x_train_imp.columns)\n",
    "print(feat_imp_rf)"
   ]
  },
  {
   "cell_type": "code",
   "execution_count": 60,
   "id": "89b2a5f2",
   "metadata": {},
   "outputs": [
    {
     "name": "stdout",
     "output_type": "stream",
     "text": [
      "361  out of  2400  employees are predicted to leave the company.\n"
     ]
    }
   ],
   "source": [
    "# Number of employees predicted to leave\n",
    "\n",
    "y_pred_leave_cnt = len(y_pred_rf[y_pred_rf == 1])\n",
    "\n",
    "print(y_pred_leave_cnt, ' out of ', len(y_test) , ' employees are predicted to leave the company.')"
   ]
  },
  {
   "cell_type": "code",
   "execution_count": null,
   "id": "61405160",
   "metadata": {},
   "outputs": [],
   "source": []
  }
 ],
 "metadata": {
  "kernelspec": {
   "display_name": "Python 3 (ipykernel)",
   "language": "python",
   "name": "python3"
  },
  "language_info": {
   "codemirror_mode": {
    "name": "ipython",
    "version": 3
   },
   "file_extension": ".py",
   "mimetype": "text/x-python",
   "name": "python",
   "nbconvert_exporter": "python",
   "pygments_lexer": "ipython3",
   "version": "3.9.12"
  }
 },
 "nbformat": 4,
 "nbformat_minor": 5
}
